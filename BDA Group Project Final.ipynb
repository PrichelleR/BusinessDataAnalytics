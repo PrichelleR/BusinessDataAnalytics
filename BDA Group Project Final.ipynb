{
 "cells": [
  {
   "cell_type": "markdown",
   "id": "ec8b55a0",
   "metadata": {},
   "source": [
    "# Machine Learning Models applied to student Drop Out data¶"
   ]
  },
  {
   "cell_type": "markdown",
   "id": "985c1ee5",
   "metadata": {},
   "source": [
    "Group: Vatsal Dahiya (160142), Shannee Christiansen (162162), Mohit Khatwani (160725), Prichelle Rugdeo (161826)"
   ]
  },
  {
   "cell_type": "markdown",
   "id": "fb97904f",
   "metadata": {},
   "source": [
    "## Data access\n",
    "- from: https://www.kaggle.com/datasets/thedevastator/higher-education-predictors-of-student-retention\n",
    "- Creating an account, logging in\n",
    "- downloading a zip file, ‘archive.zip’, \n",
    "- the extracted file was called, dataset.csv’\n",
    "- copy 'dataset.csv' to the location of this notebook\n",
    "\n",
    "The official data repository is zenodo and can be cited as: Valentim Realinho, Jorge Machado, Luís Baptista, & Mónica V. Martins. (2021). Predict students' dropout and academic success (1.0) [Data set]. Zenodo. https://doi.org/10.5281/zenodo.5777340\n",
    "\n",
    "\n",
    "## Data exploration\n",
    "\n",
    "### MDPI Data Descriptor \n",
    "The data description, category meaning and a detailed explanation of the columns and values where found here: \n",
    "- https://doi.org/10.3390/data7110146\n",
    "The paper confirms that the data has already been processed.\n",
    "\n",
    "### Early Prediction of student’s Performance in Higher Education: A Case Study\n",
    "- Read the linked paper using DOI: 10.1007/978-3-030-72657-7_16\n",
    "- We found the dataset relates to a paper that was published in a book with the following authors Mónica V. Martins , Daniel Tolledo1, Jorge Machado , Luís M. T. Baptista , and Valentim Realinho\n",
    "- Our initial plan is to reproduce the figures of the paper\n",
    "\n"
   ]
  },
  {
   "cell_type": "markdown",
   "id": "ac39df03",
   "metadata": {},
   "source": [
    "- Taken from: https://www.kaggle.com/datasets/thedevastator/higher-education-predictors-of-student-retention\n",
    "\n",
    "This dataset contains data from a higher education institution on various variables related to undergraduate students, including demographics, social-economic factors, and academic performance, to investigate the impact of these factors on student dropout and academic success\n",
    "\n",
    "|Column name|Description| Type| Our comments |\n",
    "|----|-----|-----|----|\n",
    "| Marital status| The marital status of the student. |(Categorical)|    Family responsibilities impacting dropouts?|\n",
    "| Application mode| The method of application used by the student.| (Categorical)| \n",
    "| Application order| The order in which the student applied. |(Numerical)| Students choose several programs when applying(?) No information listed in MDPI |\n",
    "| Course: |The course taken by the student. |(Categorical)| \n",
    "| Daytime/evening attendance| Whether the student attends classes during the day or in the evening. |(Categorical)| Implications to dropouts? Daytime - 1, Evening - 0 | |\n",
    "| Previous qualification |The qualification obtained by the student before enrolling in higher education. |(Categorical)| Implications to dropouts? |\n",
    "| Nacionality:| The nationality of the student.| (Categorical)| More committment for foreign students?|\n",
    "| Mother's qualification:| The qualification of the student's mother. |(Categorical)| See MDPI for what the numbers mean |\n",
    "| Father's qualification:| The qualification of the student's father. |(Categorical)| See MDPI for what the numbers mean |\n",
    "| Mother's occupation:| The occupation of the student's mother.| (Categorical)| See MDPI for what the numbers mean |\n",
    "| Father's occupation:| The occupation of the student's father.| (Categorical)| See MDPI for what the numbers mean |\n",
    "| Displaced:| Whether the student is a displaced person.| (Categorical)| Refugee? Not described in MDPI. Yes - 1, No - 0 ||\n",
    "| Educational special needs| Whether the student has any special educational needs.| (Categorical)|Yes - 1, No - 0 |\n",
    "| Debtor| Whether the student is a debtor.| (Categorical)| Yes - 1, No - 0 |\n",
    "| Tuition fees up to date| Whether the student's tuition fees are up to date.| (Categorical)| Yes - 1, No - 0 |\n",
    "| Gender| The gender of the student.| (Categorical)| Male - 1, Female - 0 |\n",
    "| Scholarship holder| Whether the student is a scholarship holder.| (Categorical)|  Yes - 1, No - 0 |\n",
    "| Age at enrollment| The age of the student at the time of enrollment.| (Numerical)|\n",
    "| International| Whether the student is an international student. |(Categorical)| Yes - 1, No - 0 |\n",
    "| Curricular units 1st sem (credited)| The number of curricular units credited by the student in the first semester. |(Numerical)|\n",
    "| Curricular units 1st sem (enrolled)| The number of curricular units enrolled by the student in the first semester. |(Numerical)| We assumed this means registered for a course |\n",
    "| Curricular units 1st sem (evaluations)| The number of curricular units evaluated by the student in the first semester. |(Numerical)|\n",
    "| Curricular units 1st sem (approved)| The number of curricular units approved by the student in the first semester. |(Numerical)| We assumed this means Passed a course |\n"
   ]
  },
  {
   "cell_type": "markdown",
   "id": "7c44854d",
   "metadata": {},
   "source": [
    "#### The Portuguese grading system\n",
    "https://www.studyineurope.eu/study-in-portugal/grades\n",
    "https://tecnico.ulisboa.pt/en/education/study-at-tecnico/academic-information/enrolments/\n"
   ]
  },
  {
   "cell_type": "markdown",
   "id": "2e6bb55d",
   "metadata": {},
   "source": [
    "## Global Settings "
   ]
  },
  {
   "cell_type": "code",
   "execution_count": 45,
   "id": "4bded8d2",
   "metadata": {},
   "outputs": [
    {
     "name": "stdout",
     "output_type": "stream",
     "text": [
      "Requirement already satisfied: imbalanced-learn in /Users/vatsal/opt/anaconda3/lib/python3.9/site-packages (0.10.1)\n",
      "Requirement already satisfied: joblib>=1.1.1 in /Users/vatsal/opt/anaconda3/lib/python3.9/site-packages (from imbalanced-learn) (1.2.0)\n",
      "Requirement already satisfied: threadpoolctl>=2.0.0 in /Users/vatsal/opt/anaconda3/lib/python3.9/site-packages (from imbalanced-learn) (2.2.0)\n",
      "Requirement already satisfied: scikit-learn>=1.0.2 in /Users/vatsal/opt/anaconda3/lib/python3.9/site-packages (from imbalanced-learn) (1.0.2)\n",
      "Requirement already satisfied: numpy>=1.17.3 in /Users/vatsal/opt/anaconda3/lib/python3.9/site-packages (from imbalanced-learn) (1.21.5)\n",
      "Requirement already satisfied: scipy>=1.3.2 in /Users/vatsal/opt/anaconda3/lib/python3.9/site-packages (from imbalanced-learn) (1.7.3)\n"
     ]
    }
   ],
   "source": [
    "import pandas as pd\n",
    "import numpy as np\n",
    "\n",
    "from sklearn.model_selection import train_test_split\n",
    "from sklearn.feature_selection import SelectFromModel\n",
    "\n",
    "from sklearn.neighbors import KNeighborsClassifier\n",
    "from sklearn.tree import DecisionTreeClassifier\n",
    "from sklearn.ensemble import RandomForestClassifier\n",
    "from sklearn.linear_model import LogisticRegression\n",
    "from sklearn.neural_network import MLPClassifier\n",
    "from sklearn.preprocessing import StandardScaler \n",
    "\n",
    "from sklearn.metrics import accuracy_score\n",
    "from sklearn.tree import export_graphviz\n",
    "from io import StringIO \n",
    "from sklearn.metrics import confusion_matrix, classification_report\n",
    "from sklearn.metrics import f1_score, precision_score, recall_score\n",
    "from IPython.display import Image  \n",
    "import pydotplus\n",
    "import matplotlib.pyplot as plt\n",
    "import seaborn as sns\n",
    "from sklearn import tree\n",
    "\n",
    "!pip install imbalanced-learn\n",
    "from imblearn.over_sampling import SMOTE"
   ]
  },
  {
   "cell_type": "code",
   "execution_count": 107,
   "id": "995c3496",
   "metadata": {
    "scrolled": true
   },
   "outputs": [
    {
     "data": {
      "text/html": [
       "<div>\n",
       "<style scoped>\n",
       "    .dataframe tbody tr th:only-of-type {\n",
       "        vertical-align: middle;\n",
       "    }\n",
       "\n",
       "    .dataframe tbody tr th {\n",
       "        vertical-align: top;\n",
       "    }\n",
       "\n",
       "    .dataframe thead th {\n",
       "        text-align: right;\n",
       "    }\n",
       "</style>\n",
       "<table border=\"1\" class=\"dataframe\">\n",
       "  <thead>\n",
       "    <tr style=\"text-align: right;\">\n",
       "      <th></th>\n",
       "      <th>Marital status</th>\n",
       "      <th>Application mode</th>\n",
       "      <th>Application order</th>\n",
       "      <th>Course</th>\n",
       "      <th>Daytime/evening attendance</th>\n",
       "      <th>Previous qualification</th>\n",
       "      <th>Nacionality</th>\n",
       "      <th>Mother's qualification</th>\n",
       "      <th>Father's qualification</th>\n",
       "      <th>Mother's occupation</th>\n",
       "      <th>...</th>\n",
       "      <th>Curricular units 2nd sem (credited)</th>\n",
       "      <th>Curricular units 2nd sem (enrolled)</th>\n",
       "      <th>Curricular units 2nd sem (evaluations)</th>\n",
       "      <th>Curricular units 2nd sem (approved)</th>\n",
       "      <th>Curricular units 2nd sem (grade)</th>\n",
       "      <th>Curricular units 2nd sem (without evaluations)</th>\n",
       "      <th>Unemployment rate</th>\n",
       "      <th>Inflation rate</th>\n",
       "      <th>GDP</th>\n",
       "      <th>Target</th>\n",
       "    </tr>\n",
       "  </thead>\n",
       "  <tbody>\n",
       "    <tr>\n",
       "      <th>0</th>\n",
       "      <td>1</td>\n",
       "      <td>8</td>\n",
       "      <td>5</td>\n",
       "      <td>2</td>\n",
       "      <td>1</td>\n",
       "      <td>1</td>\n",
       "      <td>1</td>\n",
       "      <td>13</td>\n",
       "      <td>10</td>\n",
       "      <td>6</td>\n",
       "      <td>...</td>\n",
       "      <td>0</td>\n",
       "      <td>0</td>\n",
       "      <td>0</td>\n",
       "      <td>0</td>\n",
       "      <td>0.000000</td>\n",
       "      <td>0</td>\n",
       "      <td>10.8</td>\n",
       "      <td>1.4</td>\n",
       "      <td>1.74</td>\n",
       "      <td>Dropout</td>\n",
       "    </tr>\n",
       "    <tr>\n",
       "      <th>1</th>\n",
       "      <td>1</td>\n",
       "      <td>6</td>\n",
       "      <td>1</td>\n",
       "      <td>11</td>\n",
       "      <td>1</td>\n",
       "      <td>1</td>\n",
       "      <td>1</td>\n",
       "      <td>1</td>\n",
       "      <td>3</td>\n",
       "      <td>4</td>\n",
       "      <td>...</td>\n",
       "      <td>0</td>\n",
       "      <td>6</td>\n",
       "      <td>6</td>\n",
       "      <td>6</td>\n",
       "      <td>13.666667</td>\n",
       "      <td>0</td>\n",
       "      <td>13.9</td>\n",
       "      <td>-0.3</td>\n",
       "      <td>0.79</td>\n",
       "      <td>Graduate</td>\n",
       "    </tr>\n",
       "    <tr>\n",
       "      <th>2</th>\n",
       "      <td>1</td>\n",
       "      <td>1</td>\n",
       "      <td>5</td>\n",
       "      <td>5</td>\n",
       "      <td>1</td>\n",
       "      <td>1</td>\n",
       "      <td>1</td>\n",
       "      <td>22</td>\n",
       "      <td>27</td>\n",
       "      <td>10</td>\n",
       "      <td>...</td>\n",
       "      <td>0</td>\n",
       "      <td>6</td>\n",
       "      <td>0</td>\n",
       "      <td>0</td>\n",
       "      <td>0.000000</td>\n",
       "      <td>0</td>\n",
       "      <td>10.8</td>\n",
       "      <td>1.4</td>\n",
       "      <td>1.74</td>\n",
       "      <td>Dropout</td>\n",
       "    </tr>\n",
       "    <tr>\n",
       "      <th>3</th>\n",
       "      <td>1</td>\n",
       "      <td>8</td>\n",
       "      <td>2</td>\n",
       "      <td>15</td>\n",
       "      <td>1</td>\n",
       "      <td>1</td>\n",
       "      <td>1</td>\n",
       "      <td>23</td>\n",
       "      <td>27</td>\n",
       "      <td>6</td>\n",
       "      <td>...</td>\n",
       "      <td>0</td>\n",
       "      <td>6</td>\n",
       "      <td>10</td>\n",
       "      <td>5</td>\n",
       "      <td>12.400000</td>\n",
       "      <td>0</td>\n",
       "      <td>9.4</td>\n",
       "      <td>-0.8</td>\n",
       "      <td>-3.12</td>\n",
       "      <td>Graduate</td>\n",
       "    </tr>\n",
       "  </tbody>\n",
       "</table>\n",
       "<p>4 rows × 35 columns</p>\n",
       "</div>"
      ],
      "text/plain": [
       "   Marital status  Application mode  Application order  Course  \\\n",
       "0               1                 8                  5       2   \n",
       "1               1                 6                  1      11   \n",
       "2               1                 1                  5       5   \n",
       "3               1                 8                  2      15   \n",
       "\n",
       "   Daytime/evening attendance  Previous qualification  Nacionality  \\\n",
       "0                           1                       1            1   \n",
       "1                           1                       1            1   \n",
       "2                           1                       1            1   \n",
       "3                           1                       1            1   \n",
       "\n",
       "   Mother's qualification  Father's qualification  Mother's occupation  ...  \\\n",
       "0                      13                      10                    6  ...   \n",
       "1                       1                       3                    4  ...   \n",
       "2                      22                      27                   10  ...   \n",
       "3                      23                      27                    6  ...   \n",
       "\n",
       "   Curricular units 2nd sem (credited)  Curricular units 2nd sem (enrolled)  \\\n",
       "0                                    0                                    0   \n",
       "1                                    0                                    6   \n",
       "2                                    0                                    6   \n",
       "3                                    0                                    6   \n",
       "\n",
       "   Curricular units 2nd sem (evaluations)  \\\n",
       "0                                       0   \n",
       "1                                       6   \n",
       "2                                       0   \n",
       "3                                      10   \n",
       "\n",
       "   Curricular units 2nd sem (approved)  Curricular units 2nd sem (grade)  \\\n",
       "0                                    0                          0.000000   \n",
       "1                                    6                         13.666667   \n",
       "2                                    0                          0.000000   \n",
       "3                                    5                         12.400000   \n",
       "\n",
       "   Curricular units 2nd sem (without evaluations)  Unemployment rate  \\\n",
       "0                                               0               10.8   \n",
       "1                                               0               13.9   \n",
       "2                                               0               10.8   \n",
       "3                                               0                9.4   \n",
       "\n",
       "   Inflation rate   GDP    Target  \n",
       "0             1.4  1.74   Dropout  \n",
       "1            -0.3  0.79  Graduate  \n",
       "2             1.4  1.74   Dropout  \n",
       "3            -0.8 -3.12  Graduate  \n",
       "\n",
       "[4 rows x 35 columns]"
      ]
     },
     "execution_count": 107,
     "metadata": {},
     "output_type": "execute_result"
    }
   ],
   "source": [
    "# open the datset and display\n",
    "df = pd.read_csv(\"dataset.csv\",sep=';')\n",
    "df.head(4)"
   ]
  },
  {
   "cell_type": "markdown",
   "id": "b89dda8c",
   "metadata": {},
   "source": [
    "# Explore Data"
   ]
  },
  {
   "cell_type": "code",
   "execution_count": 108,
   "id": "4024b4f4",
   "metadata": {},
   "outputs": [
    {
     "data": {
      "text/plain": [
       "(4424, 35)"
      ]
     },
     "execution_count": 108,
     "metadata": {},
     "output_type": "execute_result"
    }
   ],
   "source": [
    "df.shape"
   ]
  },
  {
   "cell_type": "code",
   "execution_count": 109,
   "id": "3c05c4ae",
   "metadata": {},
   "outputs": [],
   "source": [
    "df = df.dropna() # check for NA values, No preprocessing needed "
   ]
  },
  {
   "cell_type": "code",
   "execution_count": 110,
   "id": "89793053",
   "metadata": {},
   "outputs": [
    {
     "data": {
      "text/plain": [
       "(4424, 35)"
      ]
     },
     "execution_count": 110,
     "metadata": {},
     "output_type": "execute_result"
    }
   ],
   "source": [
    "df.shape"
   ]
  },
  {
   "cell_type": "markdown",
   "id": "f92c13fa",
   "metadata": {},
   "source": [
    "The authors stated that “The final dataset consisted of 3623 records and 25 independent variables.” (Page 169)\n",
    "However our findings are that there are 4424 rows and 35 columns"
   ]
  },
  {
   "cell_type": "markdown",
   "id": "3a672a59",
   "metadata": {},
   "source": [
    "Findings: The dataset contained 4424 records with 35 attributes which is consistent with data description, Page 2"
   ]
  },
  {
   "cell_type": "code",
   "execution_count": 111,
   "id": "c35e1b38",
   "metadata": {},
   "outputs": [
    {
     "name": "stdout",
     "output_type": "stream",
     "text": [
      "Marital status\n",
      "Application mode\n",
      "Application order\n",
      "Course\n",
      "Daytime/evening attendance\n",
      "Previous qualification\n",
      "Nacionality\n",
      "Mother's qualification\n",
      "Father's qualification\n",
      "Mother's occupation\n",
      "Father's occupation\n",
      "Displaced\n",
      "Educational special needs\n",
      "Debtor\n",
      "Tuition fees up to date\n",
      "Gender\n",
      "Scholarship holder\n",
      "Age at enrollment\n",
      "International\n",
      "Curricular units 1st sem (credited)\n",
      "Curricular units 1st sem (enrolled)\n",
      "Curricular units 1st sem (evaluations)\n",
      "Curricular units 1st sem (approved)\n",
      "Curricular units 1st sem (grade)\n",
      "Curricular units 1st sem (without evaluations)\n",
      "Curricular units 2nd sem (credited)\n",
      "Curricular units 2nd sem (enrolled)\n",
      "Curricular units 2nd sem (evaluations)\n",
      "Curricular units 2nd sem (approved)\n",
      "Curricular units 2nd sem (grade)\n",
      "Curricular units 2nd sem (without evaluations)\n",
      "Unemployment rate\n",
      "Inflation rate\n",
      "GDP\n",
      "Target\n"
     ]
    }
   ],
   "source": [
    "for i in df.columns:\n",
    "    print(i) \n",
    "    #print (df[i].value_counts())"
   ]
  },
  {
   "cell_type": "code",
   "execution_count": 112,
   "id": "15a43a2f",
   "metadata": {},
   "outputs": [],
   "source": [
    "#taken from the paper                                 # mapping data set from MDPI Paper  \n",
    "DemographicFactors = ['Marital status', \n",
    "                         'Gender', \n",
    "                         'Marital status', \n",
    "                         'Nacionality',               # 'Noted typo in the Column name, Nationality/Nacionality'\n",
    "                         'Displaced',              \n",
    "                         'Age at enrollment'] "
   ]
  },
  {
   "cell_type": "code",
   "execution_count": 113,
   "id": "cfa8722d",
   "metadata": {},
   "outputs": [],
   "source": [
    "#taken from the paper\n",
    "socioEconomicFactors =  ['Mother’s qualification', \n",
    "                           'Father’s qualification',           \n",
    "                           'Mother’s occupation',             \n",
    "                           'Father’s occupation',    \n",
    "                           'Educational special needs',                    \n",
    "                           'Debtor'\n",
    "                           'Tuition fees up to date'\n",
    "                           'Scholarship holder']                   "
   ]
  },
  {
   "cell_type": "code",
   "execution_count": 114,
   "id": "56e56c20",
   "metadata": {},
   "outputs": [],
   "source": [
    "#taken from the paper\n",
    "macroEconomicFactors = ['Unemployment rate',                     \n",
    "                       'Inflation rate', \n",
    "                       'GDP'] \n"
   ]
  },
  {
   "cell_type": "code",
   "execution_count": 115,
   "id": "14d1642e",
   "metadata": {},
   "outputs": [],
   "source": [
    "#taken from the paper\n",
    "academicDataAtEnrollment =  ['Application mode', \n",
    "                           'Application order',           \n",
    "                           'Course',             \n",
    "                           'Daytime/evening attendance',    \n",
    "                           'Previous qualification']"
   ]
  },
  {
   "cell_type": "code",
   "execution_count": 116,
   "id": "c2f42993",
   "metadata": {},
   "outputs": [],
   "source": [
    "#taken from the paper\n",
    "academicData1stSemester =  ['Curricular units 1st sem (credited)', \n",
    "                           'Curricular units 1st sem (enrolled)',           \n",
    "                           'Curricular units 1st sem (evaluations)',             \n",
    "                           'Curricular units 1st sem (approved)',    \n",
    "                           'Curricular units 1st sem (grade)',                    \n",
    "                           'Curricular units 1st sem (without evaluations)']                   "
   ]
  },
  {
   "cell_type": "code",
   "execution_count": 117,
   "id": "a66a8792",
   "metadata": {},
   "outputs": [],
   "source": [
    "#taken from the paper\n",
    "academicData2ndSemester =  ['Curricular units 2nd sem (credited)', \n",
    "                           'Curricular units 2nd sem (enrolled)',           \n",
    "                           'Curricular units 2nd sem (evaluations)',             \n",
    "                           'Curricular units 2nd sem (approved)',    \n",
    "                           'Curricular units 2nd sem (grade)',                    \n",
    "                           'Curricular units 2nd sem (without evaluations)']                   "
   ]
  },
  {
   "cell_type": "markdown",
   "id": "e4cdd424",
   "metadata": {},
   "source": [
    "## Visualization of Target variable "
   ]
  },
  {
   "cell_type": "code",
   "execution_count": 118,
   "id": "503f54f7",
   "metadata": {
    "scrolled": true
   },
   "outputs": [
    {
     "data": {
      "text/plain": [
       "Graduate    2209\n",
       "Dropout     1421\n",
       "Enrolled     794\n",
       "Name: Target, dtype: int64"
      ]
     },
     "execution_count": 118,
     "metadata": {},
     "output_type": "execute_result"
    }
   ],
   "source": [
    "df['Target'].value_counts()"
   ]
  },
  {
   "cell_type": "code",
   "execution_count": 119,
   "id": "e87c2857-567e-4f13-8973-e9e21fbefdca",
   "metadata": {},
   "outputs": [
    {
     "data": {
      "text/plain": [
       "0    3325\n",
       "1    1099\n",
       "Name: Scholarship holder, dtype: int64"
      ]
     },
     "execution_count": 119,
     "metadata": {},
     "output_type": "execute_result"
    }
   ],
   "source": [
    "df['Scholarship holder'].value_counts()"
   ]
  },
  {
   "cell_type": "code",
   "execution_count": 58,
   "id": "68963e8c",
   "metadata": {},
   "outputs": [],
   "source": [
    "#Convert series to list: (seriestolist)\n",
    "#https://sparkbyexamples.com/pandas/convert-pandas-series-to-list/#:~:text=Pandas%20Series.,and%20dictionary%20into%20a%20Series."
   ]
  },
  {
   "cell_type": "code",
   "execution_count": 59,
   "id": "1befdb21",
   "metadata": {},
   "outputs": [
    {
     "data": {
      "image/png": "[encoded data removed]",
      "text/plain": [
       "<Figure size 432x288 with 1 Axes>"
      ]
     },
     "metadata": {},
     "output_type": "display_data"
    }
   ],
   "source": [
    "labels = ['Graduate', 'Dropout', 'Enrolled']\n",
    "dataList=df['Target'].value_counts().tolist()\n",
    "colors = ['#0D652D', '#A50E0E', '#E37400'] #colors = ['Green', 'Red', 'Yellow']\n",
    "\n",
    "# Plot\n",
    "fig, ax = plt.subplots()\n",
    "ax.pie(dataList, labels=labels, colors=colors, autopct='%1.1f%%', startangle=270\n",
    "      )\n",
    "plt.savefig('pie-chart.png',bbox_inches=\"tight\")\n",
    "plt.show()"
   ]
  },
  {
   "cell_type": "code",
   "execution_count": 60,
   "id": "a15eb749",
   "metadata": {},
   "outputs": [
    {
     "data": {
      "image/png": "[encoded data removed]",
      "text/plain": [
       "<Figure size 432x288 with 1 Axes>"
      ]
     },
     "metadata": {
      "needs_background": "light"
     },
     "output_type": "display_data"
    }
   ],
   "source": [
    "target_counts = df['Target'].value_counts()\n",
    "colors = ['#0D652D', '#A50E0E', '#E37400']\n",
    "fig, ax = plt.subplots()\n",
    "ax.bar(target_counts.index, target_counts.values)\n",
    "ax.bar(target_counts.index, target_counts.values, color=colors)\n",
    "ax.set_xlabel('Target')\n",
    "ax.set_ylabel('Count')\n",
    "ax.set_title('Target Variable Distribution')\n",
    "plt.savefig('Distribution.png', bbox_inches='tight')\n",
    "plt.show()"
   ]
  },
  {
   "cell_type": "markdown",
   "id": "9e4b4b95",
   "metadata": {},
   "source": [
    "## Feature selection: Model-Based Feature Selection ( Part 1 )"
   ]
  },
  {
   "cell_type": "markdown",
   "id": "24b44c31",
   "metadata": {},
   "source": [
    "Baised on the preliminary machine model testing we discussed that it would be important to do a feature selection using a correlation matrix. \n",
    "\n",
    "Looking at the text book, page 238, Model-Based Feature Selection was used to help identify the most important features. \n",
    "\"When adding new features, or with high-dimensional datasets in general,\n",
    "it can be a good idea to reduce the number of features to only the most useful ones,\n",
    "and discard the rest. This can lead to simpler models that generalize better.\" (page 236) \n",
    "\n",
    "\n"
   ]
  },
  {
   "cell_type": "code",
   "execution_count": 61,
   "id": "b2ed0368",
   "metadata": {},
   "outputs": [
    {
     "name": "stdout",
     "output_type": "stream",
     "text": [
      "(3318, 34) (1106, 34) (3318,) (1106,)\n",
      "X_train.shape: (3318, 34)\n",
      "X_train_l1.shape: (3318, 17)\n"
     ]
    }
   ],
   "source": [
    "x = df.drop('Target', axis=1)\n",
    "y = df.Target\n",
    "X_train, X_test, y_train, y_test = train_test_split(x, y, random_state = 0)\n",
    "print(X_train.shape, X_test.shape, y_train.shape, y_test.shape)\n",
    "\n",
    "select = SelectFromModel(\n",
    "    RandomForestClassifier(n_estimators=100, random_state=42),threshold=\"median\")\n",
    "select.fit(X_train, y_train)\n",
    "X_train_l1 = select.transform(X_train)\n",
    "print(\"X_train.shape: {}\".format(X_train.shape))\n",
    "print(\"X_train_l1.shape: {}\".format(X_train_l1.shape))"
   ]
  },
  {
   "cell_type": "code",
   "execution_count": 62,
   "id": "0cf5f526",
   "metadata": {},
   "outputs": [
    {
     "data": {
      "text/plain": [
       "Text(0.5, 0, 'Sample index')"
      ]
     },
     "execution_count": 62,
     "metadata": {},
     "output_type": "execute_result"
    },
    {
     "data": {
      "image/png": "[encoded data removed]",
      "text/plain": [
       "<Figure size 1152x144 with 1 Axes>"
      ]
     },
     "metadata": {
      "needs_background": "light"
     },
     "output_type": "display_data"
    }
   ],
   "source": [
    "mask = select.get_support()\n",
    "# visualize the mask -- black is True, white is False\n",
    "plt.matshow(mask.reshape(1, -1), cmap='gray_r')\n",
    "plt.xlabel(\"Sample index\")"
   ]
  },
  {
   "cell_type": "markdown",
   "id": "a54207be",
   "metadata": {},
   "source": [
    "Findings: Following the textbook it's difficult to identify the names because the above visualisation shows us the index number so the below code was used instead. "
   ]
  },
  {
   "cell_type": "code",
   "execution_count": 63,
   "id": "53f6d5b9",
   "metadata": {},
   "outputs": [
    {
     "name": "stdout",
     "output_type": "stream",
     "text": [
      "Most Important Features:\n",
      "                                   Feature  Importance\n",
      "12     Curricular units 2nd sem (approved)    0.144803\n",
      "13        Curricular units 2nd sem (grade)    0.101714\n",
      "8      Curricular units 1st sem (approved)    0.094535\n",
      "9         Curricular units 1st sem (grade)    0.070881\n",
      "11  Curricular units 2nd sem (evaluations)    0.044918\n",
      "6                        Age at enrollment    0.042369\n",
      "5                  Tuition fees up to date    0.042237\n",
      "0                                   Course    0.037026\n",
      "7   Curricular units 1st sem (evaluations)    0.036503\n",
      "4                      Father's occupation    0.034224\n",
      "3                      Mother's occupation    0.032572\n",
      "16                                     GDP    0.027016\n",
      "2                   Father's qualification    0.026775\n",
      "1                   Mother's qualification    0.026482\n",
      "14                       Unemployment rate    0.025662\n",
      "15                          Inflation rate    0.025277\n",
      "10     Curricular units 2nd sem (enrolled)    0.023914\n"
     ]
    }
   ],
   "source": [
    "model = RandomForestClassifier(n_estimators=100, random_state=42)\n",
    "model.fit(X_train, y_train)\n",
    "importances = model.feature_importances_\n",
    "selector = SelectFromModel(estimator=model, threshold='median')\n",
    "X_selected = selector.fit_transform(X_train, y_train)\n",
    "selected_indices = selector.get_support(indices=True)\n",
    "selected_features = X_train.columns[selected_indices]# This gives us the Name of the features\n",
    "selected_importances = importances[selected_indices]# This gives us the importances\n",
    "selected_df = pd.DataFrame({'Feature': selected_features, 'Importance': selected_importances})\n",
    "selected_df = selected_df.sort_values('Importance', ascending=False)\n",
    "print(\"Most Important Features:\")\n",
    "print(selected_df)"
   ]
  },
  {
   "cell_type": "code",
   "execution_count": 64,
   "id": "51f9efbe-d917-4841-8a59-611fdd1df12b",
   "metadata": {},
   "outputs": [
    {
     "name": "stdout",
     "output_type": "stream",
     "text": [
      "Number of features: 17\n"
     ]
    }
   ],
   "source": [
    "num_features = selected_df['Feature'].shape[0]\n",
    "print(\"Number of features:\", num_features)"
   ]
  },
  {
   "cell_type": "markdown",
   "id": "7fdf352c",
   "metadata": {},
   "source": [
    "This can be dicussed in our paper and compared to the MDPI Data Descriptor section 324: Feature Importance, page 146."
   ]
  },
  {
   "cell_type": "markdown",
   "id": "c89d3e43",
   "metadata": {},
   "source": [
    "## Feature selection: correlation matrix for Feature Selection ( Part 2 )"
   ]
  },
  {
   "cell_type": "markdown",
   "id": "87faef1b",
   "metadata": {},
   "source": [
    "Reasoning: We are looking for the correlations with a 80% threshold which means the correlation over 0.8 or below -0.8. \n",
    "The thinking is that features with a high correlation are redundant to training the models. \n",
    "\n",
    "As an example; if we have 4 features for example internationality nationality country of birth and country of origin then in reality we're only having 1 feature, the Nationality that are meaningfully unique. \n",
    "\n",
    "So what we are looking for; if we have two strongly correlated variables the second variable automatically follows from the first variable so only there's only one variable carries important information for the model to learn from. \n"
   ]
  },
  {
   "cell_type": "code",
   "execution_count": 65,
   "id": "c0792ce5",
   "metadata": {},
   "outputs": [
    {
     "data": {
      "image/png": "[encoded data removed]",
      "text/plain": [
       "<Figure size 360x288 with 2 Axes>"
      ]
     },
     "metadata": {
      "needs_background": "light"
     },
     "output_type": "display_data"
    }
   ],
   "source": [
    "# Compute the correlation matrix for selected_features\n",
    "correlation_matrix = df[selected_df['Feature']].corr()\n",
    "# Plot the correlation matrix as a heatmap\n",
    "plt.figure(figsize=(5, 4))\n",
    "sns.heatmap(correlation_matrix, annot=False, cmap='coolwarm', vmin=-1,vmax=1)\n",
    "plt.title('Correlation Matrix')\n",
    "plt.savefig('correlation-selected-features.png',bbox_inches='tight')\n",
    "plt.show()"
   ]
  },
  {
   "cell_type": "code",
   "execution_count": 66,
   "id": "4775823f",
   "metadata": {},
   "outputs": [
    {
     "name": "stdout",
     "output_type": "stream",
     "text": [
      "Highly correlated items:\n",
      "('Curricular units 2nd sem (approved)', 'Curricular units 1st sem (approved)')\n",
      "('Curricular units 2nd sem (grade)', 'Curricular units 1st sem (grade)')\n"
     ]
    }
   ],
   "source": [
    "threshold = 0.8\n",
    "highly_correlated = []\n",
    "n_features = correlation_matrix.shape[0]\n",
    "\n",
    "for i in range(n_features):\n",
    "    for j in range(i + 1, n_features):\n",
    "        if abs(correlation_matrix.iloc[i, j]) > threshold:\n",
    "            pair = (correlation_matrix.columns[i], correlation_matrix.columns[j])\n",
    "            highly_correlated.append(pair)\n",
    "\n",
    "print(\"Highly correlated items:\")\n",
    "for pair in highly_correlated:\n",
    "    print(pair)"
   ]
  },
  {
   "cell_type": "markdown",
   "id": "c19a9877",
   "metadata": {},
   "source": [
    "Result: Evidence suggests that students that do well in the first semester also do well in the second semester and so the first semester data becomes redundant for training the model this means that we will use second semester features to train the model. \n",
    "\n",
    "This also means that people that do not do well in the first semester also do not do well in the second semester yes according to the correlation matrix. "
   ]
  },
  {
   "cell_type": "code",
   "execution_count": 67,
   "id": "ec3d5e28",
   "metadata": {},
   "outputs": [
    {
     "data": {
      "text/html": [
       "<div>\n",
       "<style scoped>\n",
       "    .dataframe tbody tr th:only-of-type {\n",
       "        vertical-align: middle;\n",
       "    }\n",
       "\n",
       "    .dataframe tbody tr th {\n",
       "        vertical-align: top;\n",
       "    }\n",
       "\n",
       "    .dataframe thead th {\n",
       "        text-align: right;\n",
       "    }\n",
       "</style>\n",
       "<table border=\"1\" class=\"dataframe\">\n",
       "  <thead>\n",
       "    <tr style=\"text-align: right;\">\n",
       "      <th></th>\n",
       "      <th>Feature</th>\n",
       "      <th>Importance</th>\n",
       "    </tr>\n",
       "  </thead>\n",
       "  <tbody>\n",
       "    <tr>\n",
       "      <th>12</th>\n",
       "      <td>Curricular units 2nd sem (approved)</td>\n",
       "      <td>0.144803</td>\n",
       "    </tr>\n",
       "    <tr>\n",
       "      <th>13</th>\n",
       "      <td>Curricular units 2nd sem (grade)</td>\n",
       "      <td>0.101714</td>\n",
       "    </tr>\n",
       "    <tr>\n",
       "      <th>11</th>\n",
       "      <td>Curricular units 2nd sem (evaluations)</td>\n",
       "      <td>0.044918</td>\n",
       "    </tr>\n",
       "    <tr>\n",
       "      <th>6</th>\n",
       "      <td>Age at enrollment</td>\n",
       "      <td>0.042369</td>\n",
       "    </tr>\n",
       "    <tr>\n",
       "      <th>5</th>\n",
       "      <td>Tuition fees up to date</td>\n",
       "      <td>0.042237</td>\n",
       "    </tr>\n",
       "    <tr>\n",
       "      <th>0</th>\n",
       "      <td>Course</td>\n",
       "      <td>0.037026</td>\n",
       "    </tr>\n",
       "    <tr>\n",
       "      <th>7</th>\n",
       "      <td>Curricular units 1st sem (evaluations)</td>\n",
       "      <td>0.036503</td>\n",
       "    </tr>\n",
       "    <tr>\n",
       "      <th>4</th>\n",
       "      <td>Father's occupation</td>\n",
       "      <td>0.034224</td>\n",
       "    </tr>\n",
       "    <tr>\n",
       "      <th>3</th>\n",
       "      <td>Mother's occupation</td>\n",
       "      <td>0.032572</td>\n",
       "    </tr>\n",
       "    <tr>\n",
       "      <th>16</th>\n",
       "      <td>GDP</td>\n",
       "      <td>0.027016</td>\n",
       "    </tr>\n",
       "    <tr>\n",
       "      <th>2</th>\n",
       "      <td>Father's qualification</td>\n",
       "      <td>0.026775</td>\n",
       "    </tr>\n",
       "    <tr>\n",
       "      <th>1</th>\n",
       "      <td>Mother's qualification</td>\n",
       "      <td>0.026482</td>\n",
       "    </tr>\n",
       "    <tr>\n",
       "      <th>14</th>\n",
       "      <td>Unemployment rate</td>\n",
       "      <td>0.025662</td>\n",
       "    </tr>\n",
       "    <tr>\n",
       "      <th>15</th>\n",
       "      <td>Inflation rate</td>\n",
       "      <td>0.025277</td>\n",
       "    </tr>\n",
       "    <tr>\n",
       "      <th>10</th>\n",
       "      <td>Curricular units 2nd sem (enrolled)</td>\n",
       "      <td>0.023914</td>\n",
       "    </tr>\n",
       "  </tbody>\n",
       "</table>\n",
       "</div>"
      ],
      "text/plain": [
       "                                   Feature  Importance\n",
       "12     Curricular units 2nd sem (approved)    0.144803\n",
       "13        Curricular units 2nd sem (grade)    0.101714\n",
       "11  Curricular units 2nd sem (evaluations)    0.044918\n",
       "6                        Age at enrollment    0.042369\n",
       "5                  Tuition fees up to date    0.042237\n",
       "0                                   Course    0.037026\n",
       "7   Curricular units 1st sem (evaluations)    0.036503\n",
       "4                      Father's occupation    0.034224\n",
       "3                      Mother's occupation    0.032572\n",
       "16                                     GDP    0.027016\n",
       "2                   Father's qualification    0.026775\n",
       "1                   Mother's qualification    0.026482\n",
       "14                       Unemployment rate    0.025662\n",
       "15                          Inflation rate    0.025277\n",
       "10     Curricular units 2nd sem (enrolled)    0.023914"
      ]
     },
     "execution_count": 67,
     "metadata": {},
     "output_type": "execute_result"
    }
   ],
   "source": [
    "#8 Curricular units 1st sem (approved)    0.094535\n",
    "#9 Curricular units 1st sem (grade)    0.070881\n",
    "selected_corr_df = selected_df.drop([8,9])\n",
    "selected_corr_df"
   ]
  },
  {
   "cell_type": "markdown",
   "id": "57dfc3b8",
   "metadata": {},
   "source": [
    "Findings: We are now left with 15 features out of the original 35 list of features "
   ]
  },
  {
   "cell_type": "code",
   "execution_count": 68,
   "id": "c55414cd",
   "metadata": {},
   "outputs": [
    {
     "data": {
      "image/png": "[encoded data removed]",
      "text/plain": [
       "<Figure size 720x576 with 2 Axes>"
      ]
     },
     "metadata": {
      "needs_background": "light"
     },
     "output_type": "display_data"
    }
   ],
   "source": [
    "# Compute the correlation matrix\n",
    "correlation_matrix = df.corr()\n",
    "# Plot the correlation matrix as a heatmap\n",
    "plt.figure(figsize=(10, 8))\n",
    "sns.heatmap(correlation_matrix, annot=False, cmap='coolwarm', vmin=-1,vmax=1)\n",
    "plt.title('Correlation Matrix')\n",
    "plt.show()"
   ]
  },
  {
   "cell_type": "markdown",
   "id": "17c04d06",
   "metadata": {},
   "source": [
    "Reasoning: What we want is to try identify redundant features in order to remove features from the dataset that are highly correlated. \n",
    "What we want is a table of highly correlated features with a correlation coefficient higher than 70% and an indication of which one we keep in the dataset for the machine learning models. \n",
    "\n",
    "e.g. Curricular units first semester (credited) has a correlation with Curricular units second semester (credited) which could infer that students that are doing well stay within the program and do not drop out. \n",
    "\n",
    "Next steps: Out of the correlation metrics finding a list of highly correlated items so that we can determine which ones to drop"
   ]
  },
  {
   "cell_type": "markdown",
   "id": "913e639a",
   "metadata": {},
   "source": [
    "## Additional \n",
    "\n",
    "Below: Additional information apart of data exploration may not necessarily form part of the final report. "
   ]
  },
  {
   "cell_type": "code",
   "execution_count": 69,
   "id": "4ee4536c",
   "metadata": {},
   "outputs": [
    {
     "data": {
      "image/png": "[encoded data removed]",
      "text/plain": [
       "<Figure size 360x288 with 2 Axes>"
      ]
     },
     "metadata": {
      "needs_background": "light"
     },
     "output_type": "display_data"
    }
   ],
   "source": [
    "# Compute the correlation matrix\n",
    "correlation_matrix = df[academicData1stSemester+academicData2ndSemester].corr()\n",
    "# Plot the correlation matrix as a heatmap\n",
    "plt.figure(figsize=(5, 4))\n",
    "sns.heatmap(correlation_matrix, annot=False, cmap='coolwarm', vmin=-1,vmax=1)\n",
    "plt.title('Correlation Matrix')\n",
    "plt.savefig('correlation-academic.png',bbox_inches='tight')\n",
    "plt.show()"
   ]
  },
  {
   "cell_type": "markdown",
   "id": "9e99474d",
   "metadata": {},
   "source": [
    "# Train, Test Split after feature selection"
   ]
  },
  {
   "cell_type": "code",
   "execution_count": 70,
   "id": "a8ca576b",
   "metadata": {},
   "outputs": [],
   "source": [
    "#we split the data into features (x variables) and target variable (y variable)\n",
    "x = df[selected_corr_df['Feature']]\n",
    "y = df.Target"
   ]
  },
  {
   "cell_type": "code",
   "execution_count": 71,
   "id": "bb6e1dc3",
   "metadata": {},
   "outputs": [
    {
     "data": {
      "text/plain": [
       "(4424, 15)"
      ]
     },
     "execution_count": 71,
     "metadata": {},
     "output_type": "execute_result"
    }
   ],
   "source": [
    "x.shape"
   ]
  },
  {
   "cell_type": "code",
   "execution_count": 72,
   "id": "5894bc2a",
   "metadata": {},
   "outputs": [
    {
     "data": {
      "text/plain": [
       "(4424,)"
      ]
     },
     "execution_count": 72,
     "metadata": {},
     "output_type": "execute_result"
    }
   ],
   "source": [
    "y.shape"
   ]
  },
  {
   "cell_type": "code",
   "execution_count": 73,
   "id": "ffeaea6f",
   "metadata": {},
   "outputs": [
    {
     "name": "stdout",
     "output_type": "stream",
     "text": [
      "(3318, 15) (1106, 15) (3318,) (1106,)\n"
     ]
    }
   ],
   "source": [
    "X_train, X_test, y_train, y_test = train_test_split(x, y, random_state = 0)\n",
    "print(X_train.shape, X_test.shape, y_train.shape, y_test.shape) #it randomises the data set\n",
    "#but default it splits it by 75% / 25% with 75% assigned to the training data set "
   ]
  },
  {
   "cell_type": "markdown",
   "id": "47773349",
   "metadata": {},
   "source": [
    "# Build a k-Nearest Neighbors model"
   ]
  },
  {
   "cell_type": "code",
   "execution_count": 127,
   "id": "94b29055",
   "metadata": {},
   "outputs": [
    {
     "data": {
      "text/plain": [
       "KNeighborsClassifier()"
      ]
     },
     "execution_count": 127,
     "metadata": {},
     "output_type": "execute_result"
    }
   ],
   "source": [
    "# what happens during the training > we give it the data, it saves it as apart of the training \n",
    "knn = KNeighborsClassifier (n_neighbors=5) #intialise the Classifier, uses 5 of the closest rows/data points from the data set to make a predicition \n",
    "knn.fit (X_train, y_train) # train the model, fitting the model to the data "
   ]
  },
  {
   "cell_type": "markdown",
   "id": "8105b538",
   "metadata": {},
   "source": [
    "## Evaluate the k-Nearest Neighbors model"
   ]
  },
  {
   "cell_type": "code",
   "execution_count": 130,
   "id": "39d0bb0f",
   "metadata": {},
   "outputs": [
    {
     "name": "stdout",
     "output_type": "stream",
     "text": [
      "Training set score: 0.78\n",
      "Test set score: 0.68\n"
     ]
    }
   ],
   "source": [
    "print(f\"Training set score: {knn.score(X_train, y_train):.2f}\")\n",
    "print (f\"Test set score: {knn.score (X_test, y_test):.2f}\")"
   ]
  },
  {
   "cell_type": "markdown",
   "id": "25b1dae8",
   "metadata": {},
   "source": [
    "### Optimisation Test : Loop with Distance or Uniform weighting kNN classifiers and varying numbers of neighbors "
   ]
  },
  {
   "cell_type": "markdown",
   "id": "8953c516",
   "metadata": {},
   "source": [
    "Create a loop that builds kNN classifiers with either distance or uniform weighting, with numbers of neighbors varying between 1 and 20. What is the best combination? Produce a list consisting of test accuracy, training accuracy, number of neighbors and weighting choice. The list should be sorted by test accuracy."
   ]
  },
  {
   "cell_type": "code",
   "execution_count": 76,
   "id": "96401fd2",
   "metadata": {},
   "outputs": [],
   "source": [
    "list_of_entries = []\n",
    "headers = [\"nnum_neighbors\", \"weight\", \"train_score\", \"test_score\"]\n",
    "for k in range(1,21): #outter loop for num of neighbours \n",
    "    for weight in [\"uniform\", \"distance\"]: # inner loop for weight\n",
    "        knn = KNeighborsClassifier (n_neighbors=k, weights= weight)\n",
    "        knn.fit (X_train, y_train)\n",
    "        entry = [k, weight, knn.score(X_train, y_train), knn.score(X_test,y_test)]\n",
    "        list_of_entries.append(entry)"
   ]
  },
  {
   "cell_type": "code",
   "execution_count": 77,
   "id": "1ac3bee6",
   "metadata": {
    "scrolled": true
   },
   "outputs": [
    {
     "data": {
      "text/html": [
       "<div>\n",
       "<style scoped>\n",
       "    .dataframe tbody tr th:only-of-type {\n",
       "        vertical-align: middle;\n",
       "    }\n",
       "\n",
       "    .dataframe tbody tr th {\n",
       "        vertical-align: top;\n",
       "    }\n",
       "\n",
       "    .dataframe thead th {\n",
       "        text-align: right;\n",
       "    }\n",
       "</style>\n",
       "<table border=\"1\" class=\"dataframe\">\n",
       "  <thead>\n",
       "    <tr style=\"text-align: right;\">\n",
       "      <th></th>\n",
       "      <th>nnum_neighbors</th>\n",
       "      <th>weight</th>\n",
       "      <th>train_score</th>\n",
       "      <th>test_score</th>\n",
       "    </tr>\n",
       "  </thead>\n",
       "  <tbody>\n",
       "    <tr>\n",
       "      <th>25</th>\n",
       "      <td>13</td>\n",
       "      <td>distance</td>\n",
       "      <td>0.999699</td>\n",
       "      <td>0.714286</td>\n",
       "    </tr>\n",
       "    <tr>\n",
       "      <th>23</th>\n",
       "      <td>12</td>\n",
       "      <td>distance</td>\n",
       "      <td>0.999699</td>\n",
       "      <td>0.712477</td>\n",
       "    </tr>\n",
       "    <tr>\n",
       "      <th>17</th>\n",
       "      <td>9</td>\n",
       "      <td>distance</td>\n",
       "      <td>0.999699</td>\n",
       "      <td>0.709765</td>\n",
       "    </tr>\n",
       "    <tr>\n",
       "      <th>21</th>\n",
       "      <td>11</td>\n",
       "      <td>distance</td>\n",
       "      <td>0.999699</td>\n",
       "      <td>0.708861</td>\n",
       "    </tr>\n",
       "    <tr>\n",
       "      <th>22</th>\n",
       "      <td>12</td>\n",
       "      <td>uniform</td>\n",
       "      <td>0.723930</td>\n",
       "      <td>0.707957</td>\n",
       "    </tr>\n",
       "    <tr>\n",
       "      <th>15</th>\n",
       "      <td>8</td>\n",
       "      <td>distance</td>\n",
       "      <td>0.999699</td>\n",
       "      <td>0.707052</td>\n",
       "    </tr>\n",
       "    <tr>\n",
       "      <th>19</th>\n",
       "      <td>10</td>\n",
       "      <td>distance</td>\n",
       "      <td>0.999699</td>\n",
       "      <td>0.707052</td>\n",
       "    </tr>\n",
       "    <tr>\n",
       "      <th>29</th>\n",
       "      <td>15</td>\n",
       "      <td>distance</td>\n",
       "      <td>0.999699</td>\n",
       "      <td>0.707052</td>\n",
       "    </tr>\n",
       "    <tr>\n",
       "      <th>27</th>\n",
       "      <td>14</td>\n",
       "      <td>distance</td>\n",
       "      <td>0.999699</td>\n",
       "      <td>0.706148</td>\n",
       "    </tr>\n",
       "    <tr>\n",
       "      <th>18</th>\n",
       "      <td>10</td>\n",
       "      <td>uniform</td>\n",
       "      <td>0.732068</td>\n",
       "      <td>0.705244</td>\n",
       "    </tr>\n",
       "    <tr>\n",
       "      <th>24</th>\n",
       "      <td>13</td>\n",
       "      <td>uniform</td>\n",
       "      <td>0.721519</td>\n",
       "      <td>0.705244</td>\n",
       "    </tr>\n",
       "    <tr>\n",
       "      <th>14</th>\n",
       "      <td>8</td>\n",
       "      <td>uniform</td>\n",
       "      <td>0.748644</td>\n",
       "      <td>0.703436</td>\n",
       "    </tr>\n",
       "    <tr>\n",
       "      <th>20</th>\n",
       "      <td>11</td>\n",
       "      <td>uniform</td>\n",
       "      <td>0.724834</td>\n",
       "      <td>0.702532</td>\n",
       "    </tr>\n",
       "    <tr>\n",
       "      <th>26</th>\n",
       "      <td>14</td>\n",
       "      <td>uniform</td>\n",
       "      <td>0.717902</td>\n",
       "      <td>0.702532</td>\n",
       "    </tr>\n",
       "    <tr>\n",
       "      <th>28</th>\n",
       "      <td>15</td>\n",
       "      <td>uniform</td>\n",
       "      <td>0.717300</td>\n",
       "      <td>0.702532</td>\n",
       "    </tr>\n",
       "  </tbody>\n",
       "</table>\n",
       "</div>"
      ],
      "text/plain": [
       "    nnum_neighbors    weight  train_score  test_score\n",
       "25              13  distance     0.999699    0.714286\n",
       "23              12  distance     0.999699    0.712477\n",
       "17               9  distance     0.999699    0.709765\n",
       "21              11  distance     0.999699    0.708861\n",
       "22              12   uniform     0.723930    0.707957\n",
       "15               8  distance     0.999699    0.707052\n",
       "19              10  distance     0.999699    0.707052\n",
       "29              15  distance     0.999699    0.707052\n",
       "27              14  distance     0.999699    0.706148\n",
       "18              10   uniform     0.732068    0.705244\n",
       "24              13   uniform     0.721519    0.705244\n",
       "14               8   uniform     0.748644    0.703436\n",
       "20              11   uniform     0.724834    0.702532\n",
       "26              14   uniform     0.717902    0.702532\n",
       "28              15   uniform     0.717300    0.702532"
      ]
     },
     "execution_count": 77,
     "metadata": {},
     "output_type": "execute_result"
    }
   ],
   "source": [
    "dfOpt2 = pd.DataFrame(list_of_entries, columns= headers)\n",
    "dfOpt2.sort_values(by=[\"test_score\",\"train_score\"], ascending=False).head(15)"
   ]
  },
  {
   "cell_type": "markdown",
   "id": "b24cd42e",
   "metadata": {},
   "source": [
    "Findings: After optimisation the above results show that nearest neighbours 13 with weight parameter of type distance provides the best score. However the train_score is almost 1 which could mean that there is overfitting ( we need to check this to be sure)."
   ]
  },
  {
   "cell_type": "markdown",
   "id": "00876801",
   "metadata": {},
   "source": [
    "### Results: confusion matrix for Knn \n",
    "\n",
    "To analyse the quality of the model\n",
    "https://towardsdatascience.com/performance-metrics-confusion-matrix-precision-recall-and-f1-score-a8fe076a2262"
   ]
  },
  {
   "cell_type": "code",
   "execution_count": 78,
   "id": "aa15711f",
   "metadata": {},
   "outputs": [],
   "source": [
    "# Define class labels\n",
    "class_labels = ['Graduate', \"Dropout\", 'Enrolled']\n",
    "def plot_confusion_matrix( y_test, y_pred, filename):\n",
    "    cm = confusion_matrix(y_test, y_pred,labels=class_labels)\n",
    "    plt.imshow(cm, interpolation='nearest', cmap=plt.cm.Greens)\n",
    "    #plt.title('Confusion Matrix')\n",
    "    plt.colorbar()\n",
    "    tick_marks = np.arange(len(class_labels))\n",
    "    plt.xticks(tick_marks, class_labels)\n",
    "    plt.yticks(tick_marks, class_labels)\n",
    "    plt.xlabel('Predicted Label')\n",
    "    plt.ylabel('True Label')\n",
    "    thresh = cm.max() / 2.\n",
    "    for i, j in np.ndindex(cm.shape):\n",
    "        plt.text(j, i, format(cm[i, j], 'd'),\n",
    "                 horizontalalignment='center',\n",
    "                 color='white' if cm[i, j] > thresh else 'black')\n",
    "\n",
    "    plt.tight_layout()\n",
    "    plt.savefig( filename, bbox_inches='tight')\n",
    "    plt.show()"
   ]
  },
  {
   "cell_type": "code",
   "execution_count": 86,
   "id": "65795d58",
   "metadata": {},
   "outputs": [
    {
     "data": {
      "image/png": "[encoded data removed]",
      "text/plain": [
       "<Figure size 432x288 with 2 Axes>"
      ]
     },
     "metadata": {
      "needs_background": "light"
     },
     "output_type": "display_data"
    }
   ],
   "source": [
    "knn = KNeighborsClassifier (n_neighbors=12, weights= 'uniform')\n",
    "knn.fit (X_train, y_train)  \n",
    "# Make predictions on the test data\n",
    "y_pred = knn.predict(X_test)\n",
    "plot_confusion_matrix( y_test, y_pred, 'confusion-knn.png')"
   ]
  },
  {
   "cell_type": "code",
   "execution_count": 87,
   "id": "ac490b8d",
   "metadata": {},
   "outputs": [
    {
     "name": "stdout",
     "output_type": "stream",
     "text": [
      "              precision    recall  f1-score   support\n",
      "\n",
      "    Graduate       0.72      0.91      0.80       560\n",
      "     Dropout       0.78      0.63      0.69       353\n",
      "    Enrolled       0.47      0.26      0.34       193\n",
      "\n",
      "    accuracy                           0.71      1106\n",
      "   macro avg       0.65      0.60      0.61      1106\n",
      "weighted avg       0.69      0.71      0.69      1106\n",
      "\n"
     ]
    }
   ],
   "source": [
    "#https://towardsdatascience.com/multi-class-metrics-made-simple-part-i-precision-and-recall-9250280bddc2\n",
    "print(classification_report(y_test,y_pred,labels=class_labels))"
   ]
  },
  {
   "cell_type": "markdown",
   "id": "b059cb29",
   "metadata": {},
   "source": [
    "Workflow: We created the machine learning model and optimise it based on the score and afterwards plot of a confusion matrix. "
   ]
  },
  {
   "cell_type": "markdown",
   "id": "2c75719a",
   "metadata": {},
   "source": [
    "https://scikit-learn.org/stable/modules/generated/sklearn.metrics.f1_score.html#sklearn.metrics.f1_score"
   ]
  },
  {
   "cell_type": "markdown",
   "id": "20213bc5",
   "metadata": {},
   "source": [
    "Findings: \n",
    "\n",
    "The goal in terms of precision, recall and the F1 score:\n",
    "\n",
    "Our reasoning is that we don't want the model to miss any dropouts; this would be unwanted  since if someone is a dropout and labelled as a graduate, the student will not be indented to be included in any support interventions. This translates to the recall for the dropouts needing to be a high value ( i.e larger than 1, so we need to optimise it) and most important in our valuation of the models. \n",
    "\n",
    "Refocusing on the use case for this model: \n",
    "\n",
    "To identify drops to help design support interventions, e.g to send mentor invitations for potential drops. If the model incorrectly identified future graduates as dropouts, then what would really be the impact if the future graduate may receive a mentoring invitation for support. \n"
   ]
  },
  {
   "cell_type": "markdown",
   "id": "a59d5930",
   "metadata": {},
   "source": [
    "# Build a Linear model for classification: LogisticRegression classifier "
   ]
  },
  {
   "cell_type": "markdown",
   "id": "589356ad",
   "metadata": {},
   "source": [
    "Findings: Due to there being 3 target values the Logistic Regression classifier model has to be of type multinomial"
   ]
  },
  {
   "cell_type": "code",
   "execution_count": 82,
   "id": "1760031a",
   "metadata": {},
   "outputs": [
    {
     "name": "stdout",
     "output_type": "stream",
     "text": [
      "Training set score: 0.757\n",
      "Test set score: 0.769\n"
     ]
    }
   ],
   "source": [
    "logreg = LogisticRegression(max_iter = 100000,multi_class='multinomial'\n",
    "                           ).fit(X_train, y_train)\n",
    "print(\"Training set score: {:.3f}\".format(logreg.score(X_train, y_train)))\n",
    "print(\"Test set score: {:.3f}\".format(logreg.score(X_test, y_test)))"
   ]
  },
  {
   "cell_type": "markdown",
   "id": "487137f1",
   "metadata": {},
   "source": [
    "Print the three features with the highest coefficients -- these are the features which the model most strongly links with the target value. \n"
   ]
  },
  {
   "cell_type": "markdown",
   "id": "a3a5849b",
   "metadata": {},
   "source": [
    "### Optimisation Test 1 :  Test using different values of C for a Logistic Regression model "
   ]
  },
  {
   "cell_type": "markdown",
   "id": "e6282fc1",
   "metadata": {},
   "source": [
    "Try different values of C for a Logistic Regression model with the same data. Give results sorted by test accuracy. Each line of the output should include test accuracy, training accuracy, and C value."
   ]
  },
  {
   "cell_type": "code",
   "execution_count": 37,
   "id": "6c0dec33",
   "metadata": {},
   "outputs": [],
   "source": [
    "#https://scikit-learn.org/stable/modules/generated/sklearn.linear_model.LogisticRegression.html#sklearn.linear_model.LogisticRegression"
   ]
  },
  {
   "cell_type": "code",
   "execution_count": 38,
   "id": "3554d386",
   "metadata": {},
   "outputs": [],
   "source": [
    "list_of_entries = []\n",
    "headers = [\"C\", \"train_score\", \"test_score\"]\n",
    "for Cc in [0.001,0.01, 0.1, 1,10, 100,1000,10000]: #outter loop for C parameter\n",
    "    logreg = LogisticRegression(C = Cc, max_iter = 100000).fit(X_train, y_train)\n",
    "    entry = [Cc, logreg.score(X_train, y_train), logreg.score(X_test,y_test)]\n",
    "    list_of_entries.append(entry)"
   ]
  },
  {
   "cell_type": "code",
   "execution_count": 39,
   "id": "1451a62f",
   "metadata": {},
   "outputs": [
    {
     "data": {
      "text/html": [
       "<div>\n",
       "<style scoped>\n",
       "    .dataframe tbody tr th:only-of-type {\n",
       "        vertical-align: middle;\n",
       "    }\n",
       "\n",
       "    .dataframe tbody tr th {\n",
       "        vertical-align: top;\n",
       "    }\n",
       "\n",
       "    .dataframe thead th {\n",
       "        text-align: right;\n",
       "    }\n",
       "</style>\n",
       "<table border=\"1\" class=\"dataframe\">\n",
       "  <thead>\n",
       "    <tr style=\"text-align: right;\">\n",
       "      <th></th>\n",
       "      <th>C</th>\n",
       "      <th>train_score</th>\n",
       "      <th>test_score</th>\n",
       "    </tr>\n",
       "  </thead>\n",
       "  <tbody>\n",
       "    <tr>\n",
       "      <th>2</th>\n",
       "      <td>0.100</td>\n",
       "      <td>0.754973</td>\n",
       "      <td>0.773960</td>\n",
       "    </tr>\n",
       "    <tr>\n",
       "      <th>3</th>\n",
       "      <td>1.000</td>\n",
       "      <td>0.757384</td>\n",
       "      <td>0.769439</td>\n",
       "    </tr>\n",
       "    <tr>\n",
       "      <th>4</th>\n",
       "      <td>10.000</td>\n",
       "      <td>0.757083</td>\n",
       "      <td>0.768535</td>\n",
       "    </tr>\n",
       "    <tr>\n",
       "      <th>5</th>\n",
       "      <td>100.000</td>\n",
       "      <td>0.757083</td>\n",
       "      <td>0.768535</td>\n",
       "    </tr>\n",
       "    <tr>\n",
       "      <th>7</th>\n",
       "      <td>10000.000</td>\n",
       "      <td>0.756781</td>\n",
       "      <td>0.768535</td>\n",
       "    </tr>\n",
       "    <tr>\n",
       "      <th>6</th>\n",
       "      <td>1000.000</td>\n",
       "      <td>0.756178</td>\n",
       "      <td>0.768535</td>\n",
       "    </tr>\n",
       "    <tr>\n",
       "      <th>1</th>\n",
       "      <td>0.010</td>\n",
       "      <td>0.744123</td>\n",
       "      <td>0.764919</td>\n",
       "    </tr>\n",
       "    <tr>\n",
       "      <th>0</th>\n",
       "      <td>0.001</td>\n",
       "      <td>0.721218</td>\n",
       "      <td>0.752260</td>\n",
       "    </tr>\n",
       "  </tbody>\n",
       "</table>\n",
       "</div>"
      ],
      "text/plain": [
       "           C  train_score  test_score\n",
       "2      0.100     0.754973    0.773960\n",
       "3      1.000     0.757384    0.769439\n",
       "4     10.000     0.757083    0.768535\n",
       "5    100.000     0.757083    0.768535\n",
       "7  10000.000     0.756781    0.768535\n",
       "6   1000.000     0.756178    0.768535\n",
       "1      0.010     0.744123    0.764919\n",
       "0      0.001     0.721218    0.752260"
      ]
     },
     "execution_count": 39,
     "metadata": {},
     "output_type": "execute_result"
    }
   ],
   "source": [
    "dfOpt3 = pd.DataFrame(list_of_entries, columns= headers)\n",
    "dfOpt3.sort_values(by=[\"test_score\",\"train_score\"], ascending=False).head(15)"
   ]
  },
  {
   "cell_type": "markdown",
   "id": "04b1a0c8",
   "metadata": {},
   "source": [
    "Findings: The optimisation did not improve the test score much. We will\n",
    "use the optimisted parameter C value = 0.100 "
   ]
  },
  {
   "cell_type": "markdown",
   "id": "d5c54354",
   "metadata": {},
   "source": [
    "### Results: confusion matrix for Multinomial LogisticRegression \n",
    "\n",
    "To analyse the quality of the model\n",
    "https://towardsdatascience.com/performance-metrics-confusion-matrix-precision-recall-and-f1-score-a8fe076a2262"
   ]
  },
  {
   "cell_type": "code",
   "execution_count": 92,
   "id": "f3220fe4",
   "metadata": {},
   "outputs": [
    {
     "data": {
      "image/png": "[encoded data removed]",
      "text/plain": [
       "<Figure size 432x288 with 2 Axes>"
      ]
     },
     "metadata": {
      "needs_background": "light"
     },
     "output_type": "display_data"
    }
   ],
   "source": [
    "model = LogisticRegression(max_iter = 100000, C= 0.100, multi_class='multinomial')\n",
    "model.fit(X_train, y_train)\n",
    "# Make predictions on the test data\n",
    "y_pred = model.predict(X_test)\n",
    "plot_confusion_matrix( y_test, y_pred, 'confusion-logreg.png')"
   ]
  },
  {
   "cell_type": "code",
   "execution_count": 93,
   "id": "cc4f642b",
   "metadata": {},
   "outputs": [
    {
     "name": "stdout",
     "output_type": "stream",
     "text": [
      "              precision    recall  f1-score   support\n",
      "\n",
      "    Graduate       0.79      0.94      0.86       560\n",
      "     Dropout       0.80      0.77      0.79       353\n",
      "    Enrolled       0.59      0.31      0.40       193\n",
      "\n",
      "    accuracy                           0.77      1106\n",
      "   macro avg       0.73      0.67      0.68      1106\n",
      "weighted avg       0.76      0.77      0.75      1106\n",
      "\n"
     ]
    }
   ],
   "source": [
    "#https://towardsdatascience.com/multi-class-metrics-made-simple-part-i-precision-and-recall-9250280bddc2\n",
    "print(classification_report(y_test,y_pred,labels=class_labels))"
   ]
  },
  {
   "cell_type": "markdown",
   "id": "f2ab3f84",
   "metadata": {},
   "source": [
    "Findings:\n",
    "kNN has a worse recall when compared to Logistic Regression "
   ]
  },
  {
   "cell_type": "markdown",
   "id": "ac68806e",
   "metadata": {},
   "source": [
    "## Build Random forest models "
   ]
  },
  {
   "cell_type": "code",
   "execution_count": 42,
   "id": "dce027ba",
   "metadata": {},
   "outputs": [],
   "source": [
    "# Construct a random forest classifier for this data. Report train and test accuracy."
   ]
  },
  {
   "cell_type": "code",
   "execution_count": 97,
   "id": "039c383f",
   "metadata": {},
   "outputs": [
    {
     "name": "stdout",
     "output_type": "stream",
     "text": [
      "Accuracy on training set: 0.719\n",
      "Accuracy on test set: 0.727\n"
     ]
    }
   ],
   "source": [
    "forest = RandomForestClassifier(n_estimators=5, random_state=2,max_depth=5)# build the forest classifer\n",
    "forest.fit(X_train, y_train) # train model \n",
    "print(\"Accuracy on training set: {:.3f}\".format(forest.score(X_train, y_train)))\n",
    "print(\"Accuracy on test set: {:.3f}\".format(forest.score(X_test, y_test)))"
   ]
  },
  {
   "cell_type": "markdown",
   "id": "684a7964",
   "metadata": {},
   "source": [
    "Note: Max depth was set to 5 to prevent overfitting"
   ]
  },
  {
   "cell_type": "code",
   "execution_count": 98,
   "id": "7f009c9d",
   "metadata": {},
   "outputs": [],
   "source": [
    "# we give a tree a 'disadvantage', we dont give a tree everything \n",
    "# a selection of data (rows and columns) \n",
    "# but then each tree has to take a different look at the data "
   ]
  },
  {
   "cell_type": "code",
   "execution_count": 99,
   "id": "8fd9c79e",
   "metadata": {},
   "outputs": [
    {
     "data": {
      "text/html": [
       "<div>\n",
       "<style scoped>\n",
       "    .dataframe tbody tr th:only-of-type {\n",
       "        vertical-align: middle;\n",
       "    }\n",
       "\n",
       "    .dataframe tbody tr th {\n",
       "        vertical-align: top;\n",
       "    }\n",
       "\n",
       "    .dataframe thead th {\n",
       "        text-align: right;\n",
       "    }\n",
       "</style>\n",
       "<table border=\"1\" class=\"dataframe\">\n",
       "  <thead>\n",
       "    <tr style=\"text-align: right;\">\n",
       "      <th></th>\n",
       "      <th>n_estimators</th>\n",
       "      <th>Train_score</th>\n",
       "      <th>Test_score</th>\n",
       "    </tr>\n",
       "  </thead>\n",
       "  <tbody>\n",
       "    <tr>\n",
       "      <th>15</th>\n",
       "      <td>320</td>\n",
       "      <td>0.754370</td>\n",
       "      <td>0.757685</td>\n",
       "    </tr>\n",
       "    <tr>\n",
       "      <th>14</th>\n",
       "      <td>300</td>\n",
       "      <td>0.753466</td>\n",
       "      <td>0.757685</td>\n",
       "    </tr>\n",
       "    <tr>\n",
       "      <th>13</th>\n",
       "      <td>280</td>\n",
       "      <td>0.753165</td>\n",
       "      <td>0.757685</td>\n",
       "    </tr>\n",
       "    <tr>\n",
       "      <th>12</th>\n",
       "      <td>260</td>\n",
       "      <td>0.753767</td>\n",
       "      <td>0.756781</td>\n",
       "    </tr>\n",
       "    <tr>\n",
       "      <th>16</th>\n",
       "      <td>340</td>\n",
       "      <td>0.753466</td>\n",
       "      <td>0.756781</td>\n",
       "    </tr>\n",
       "    <tr>\n",
       "      <th>8</th>\n",
       "      <td>180</td>\n",
       "      <td>0.752562</td>\n",
       "      <td>0.756781</td>\n",
       "    </tr>\n",
       "    <tr>\n",
       "      <th>3</th>\n",
       "      <td>80</td>\n",
       "      <td>0.752260</td>\n",
       "      <td>0.756781</td>\n",
       "    </tr>\n",
       "    <tr>\n",
       "      <th>0</th>\n",
       "      <td>20</td>\n",
       "      <td>0.754069</td>\n",
       "      <td>0.755877</td>\n",
       "    </tr>\n",
       "    <tr>\n",
       "      <th>19</th>\n",
       "      <td>400</td>\n",
       "      <td>0.753165</td>\n",
       "      <td>0.755877</td>\n",
       "    </tr>\n",
       "    <tr>\n",
       "      <th>11</th>\n",
       "      <td>240</td>\n",
       "      <td>0.752562</td>\n",
       "      <td>0.755877</td>\n",
       "    </tr>\n",
       "    <tr>\n",
       "      <th>17</th>\n",
       "      <td>360</td>\n",
       "      <td>0.752562</td>\n",
       "      <td>0.755877</td>\n",
       "    </tr>\n",
       "    <tr>\n",
       "      <th>7</th>\n",
       "      <td>160</td>\n",
       "      <td>0.752260</td>\n",
       "      <td>0.755877</td>\n",
       "    </tr>\n",
       "    <tr>\n",
       "      <th>10</th>\n",
       "      <td>220</td>\n",
       "      <td>0.752260</td>\n",
       "      <td>0.755877</td>\n",
       "    </tr>\n",
       "    <tr>\n",
       "      <th>21</th>\n",
       "      <td>440</td>\n",
       "      <td>0.752260</td>\n",
       "      <td>0.755877</td>\n",
       "    </tr>\n",
       "    <tr>\n",
       "      <th>2</th>\n",
       "      <td>60</td>\n",
       "      <td>0.751959</td>\n",
       "      <td>0.755877</td>\n",
       "    </tr>\n",
       "    <tr>\n",
       "      <th>20</th>\n",
       "      <td>420</td>\n",
       "      <td>0.751959</td>\n",
       "      <td>0.755877</td>\n",
       "    </tr>\n",
       "    <tr>\n",
       "      <th>22</th>\n",
       "      <td>460</td>\n",
       "      <td>0.751959</td>\n",
       "      <td>0.755877</td>\n",
       "    </tr>\n",
       "    <tr>\n",
       "      <th>9</th>\n",
       "      <td>200</td>\n",
       "      <td>0.751658</td>\n",
       "      <td>0.755877</td>\n",
       "    </tr>\n",
       "    <tr>\n",
       "      <th>23</th>\n",
       "      <td>480</td>\n",
       "      <td>0.753466</td>\n",
       "      <td>0.754973</td>\n",
       "    </tr>\n",
       "    <tr>\n",
       "      <th>24</th>\n",
       "      <td>500</td>\n",
       "      <td>0.753466</td>\n",
       "      <td>0.754973</td>\n",
       "    </tr>\n",
       "    <tr>\n",
       "      <th>18</th>\n",
       "      <td>380</td>\n",
       "      <td>0.752562</td>\n",
       "      <td>0.754973</td>\n",
       "    </tr>\n",
       "    <tr>\n",
       "      <th>4</th>\n",
       "      <td>100</td>\n",
       "      <td>0.752260</td>\n",
       "      <td>0.754069</td>\n",
       "    </tr>\n",
       "    <tr>\n",
       "      <th>6</th>\n",
       "      <td>140</td>\n",
       "      <td>0.750753</td>\n",
       "      <td>0.754069</td>\n",
       "    </tr>\n",
       "    <tr>\n",
       "      <th>5</th>\n",
       "      <td>120</td>\n",
       "      <td>0.751356</td>\n",
       "      <td>0.753165</td>\n",
       "    </tr>\n",
       "    <tr>\n",
       "      <th>1</th>\n",
       "      <td>40</td>\n",
       "      <td>0.746835</td>\n",
       "      <td>0.748644</td>\n",
       "    </tr>\n",
       "  </tbody>\n",
       "</table>\n",
       "</div>"
      ],
      "text/plain": [
       "    n_estimators  Train_score  Test_score\n",
       "15           320     0.754370    0.757685\n",
       "14           300     0.753466    0.757685\n",
       "13           280     0.753165    0.757685\n",
       "12           260     0.753767    0.756781\n",
       "16           340     0.753466    0.756781\n",
       "8            180     0.752562    0.756781\n",
       "3             80     0.752260    0.756781\n",
       "0             20     0.754069    0.755877\n",
       "19           400     0.753165    0.755877\n",
       "11           240     0.752562    0.755877\n",
       "17           360     0.752562    0.755877\n",
       "7            160     0.752260    0.755877\n",
       "10           220     0.752260    0.755877\n",
       "21           440     0.752260    0.755877\n",
       "2             60     0.751959    0.755877\n",
       "20           420     0.751959    0.755877\n",
       "22           460     0.751959    0.755877\n",
       "9            200     0.751658    0.755877\n",
       "23           480     0.753466    0.754973\n",
       "24           500     0.753466    0.754973\n",
       "18           380     0.752562    0.754973\n",
       "4            100     0.752260    0.754069\n",
       "6            140     0.750753    0.754069\n",
       "5            120     0.751356    0.753165\n",
       "1             40     0.746835    0.748644"
      ]
     },
     "execution_count": 99,
     "metadata": {},
     "output_type": "execute_result"
    }
   ],
   "source": [
    "list_of_entries = []\n",
    "#headers\n",
    "headers = [\"n_estimators\", \"Train_score\", \"Test_score\"]\n",
    "for count in range (20,501,20): #20 at each iteration\n",
    "    forest = RandomForestClassifier(n_estimators=count, random_state=2, max_depth=5)# build the forest classifer\n",
    "    forest.fit(X_train, y_train) # train model \n",
    "    #print(\"Accuracy on training set: {:.3f}\".format(forest.score(X_train, y_train)))\n",
    "    #print(\"Accuracy on test set: {:.3f}\".format(forest.score(X_test, y_test)))\n",
    "    entry = [count, forest.score(X_train, y_train), forest.score(X_test,y_test)] #adding the scores to variable\n",
    "    list_of_entries.append(entry)\n",
    "df = pd.DataFrame(list_of_entries, columns= headers)\n",
    "df.sort_values(by=[\"Test_score\",\"Train_score\"], ascending=False)"
   ]
  },
  {
   "cell_type": "markdown",
   "id": "9cc2dd1b",
   "metadata": {},
   "source": [
    "Create a line plot of train and test scores for each value of the number of estimators, by completing the following code."
   ]
  },
  {
   "cell_type": "code",
   "execution_count": 100,
   "id": "eecc707d",
   "metadata": {},
   "outputs": [
    {
     "data": {
      "image/png": "[encoded data removed]",
      "text/plain": [
       "<Figure size 432x288 with 1 Axes>"
      ]
     },
     "metadata": {
      "needs_background": "light"
     },
     "output_type": "display_data"
    }
   ],
   "source": [
    "# first just plot test scores\n",
    "# x axis - a list of the values for number of estimators\n",
    "x = df.n_estimators\n",
    "# two arguments to plot are the x axis values and the y axis values\n",
    "# y axis - list of test scores\n",
    "plt.plot(x, df.Test_score)\n",
    "# finally, to show the plots\n",
    "plt.show('')"
   ]
  },
  {
   "cell_type": "markdown",
   "id": "2dc25b81",
   "metadata": {},
   "source": [
    "Note: This is the table data visualised, 320 is the max"
   ]
  },
  {
   "cell_type": "code",
   "execution_count": 104,
   "id": "e782448d",
   "metadata": {},
   "outputs": [
    {
     "data": {
      "image/png": "[encoded data removed]",
      "text/plain": [
       "<Figure size 432x288 with 1 Axes>"
      ]
     },
     "metadata": {
      "needs_background": "light"
     },
     "output_type": "display_data"
    }
   ],
   "source": [
    "# now plot train and test scores\n",
    "# x axis - a list of the values for number of estimators\n",
    "x = df.n_estimators\n",
    "# y axis - list of Test scores\n",
    "# two arguments to plot are the x axis values and the y axis values\n",
    "plt.plot(x , df.Test_score)\n",
    "# do another plot, with same x axis, and on the y axis - list of train scores\n",
    "plt.plot(x, df.Train_score)\n",
    "plt.savefig('logistic.png')\n",
    "# finally, to show the plots\n",
    "plt.show()\n"
   ]
  },
  {
   "cell_type": "markdown",
   "id": "0b9b3510",
   "metadata": {},
   "source": [
    "## Results: confusion matrix for Random Forest Classifier"
   ]
  },
  {
   "cell_type": "code",
   "execution_count": 95,
   "id": "c6ea05e4",
   "metadata": {},
   "outputs": [
    {
     "data": {
      "image/png": "[encoded data removed]",
      "text/plain": [
       "<Figure size 432x288 with 2 Axes>"
      ]
     },
     "metadata": {
      "needs_background": "light"
     },
     "output_type": "display_data"
    },
    {
     "name": "stdout",
     "output_type": "stream",
     "text": [
      "              precision    recall  f1-score   support\n",
      "\n",
      "    Graduate       0.76      0.94      0.84       560\n",
      "     Dropout       0.77      0.79      0.78       353\n",
      "    Enrolled       0.61      0.16      0.25       193\n",
      "\n",
      "    accuracy                           0.76      1106\n",
      "   macro avg       0.71      0.63      0.63      1106\n",
      "weighted avg       0.74      0.76      0.72      1106\n",
      "\n"
     ]
    }
   ],
   "source": [
    "model = RandomForestClassifier(n_estimators=320, random_state=2, max_depth=5)\n",
    "model.fit(X_train, y_train)\n",
    "# Make predictions on the test data\n",
    "y_pred = model.predict(X_test)\n",
    "plot_confusion_matrix( y_test, y_pred, 'confusion-forest.png')\n",
    "print(classification_report(y_test,y_pred,labels=class_labels))"
   ]
  },
  {
   "cell_type": "markdown",
   "id": "5d7a5590",
   "metadata": {},
   "source": [
    "### Opitimsation 2: scaled version of the data, using Standard Scaler"
   ]
  },
  {
   "cell_type": "code",
   "execution_count": 49,
   "id": "20acb5c7",
   "metadata": {},
   "outputs": [],
   "source": [
    "# this instantiate an object of StandardScaler, this means it creates a 'workspace/tool' in my sklearn 'toolbox' \n",
    "scaler = StandardScaler()\n",
    "# now we show the scaler the data, to say look at this \n",
    "scaler.fit(X_train) \n",
    "\n",
    "# now we apply the scaler to the training set\n",
    "X_train_scaled = scaler.transform(X_train) \n",
    "\n",
    "# now we apply the scaler to the test set\n",
    "#if we use a scaler we need to remember to create Train and Test that is scaled\n",
    "X_test_scaled = scaler.transform(X_test) "
   ]
  },
  {
   "cell_type": "code",
   "execution_count": 50,
   "id": "9a3309fc",
   "metadata": {},
   "outputs": [],
   "source": [
    "#wanted to see it in pf format which is nicer to read \n",
    "#created as a dataframe\n",
    "list_of_entries = []\n",
    "headers = [\"n_estimators\", \"Train_score\", \"Test_score\"]\n",
    "\n",
    "for count in range(2, 20, 2):\n",
    "    forest = RandomForestClassifier(n_estimators=count, random_state=2, max_depth=5)\n",
    "    forest.fit(X_train_scaled, y_train)\n",
    "    train_score = forest.score(X_train_scaled, y_train)\n",
    "    test_score = forest.score(X_test_scaled, y_test)\n",
    "    entry = [count, train_score, test_score]\n",
    "    list_of_entries.append(entry)\n",
    "\n",
    "df2 = pd.DataFrame(list_of_entries, columns=headers)\n",
    "df2.sort_values(by=[\"Test_score\", \"Train_score\"], ascending=False, inplace=True)"
   ]
  },
  {
   "cell_type": "code",
   "execution_count": 51,
   "id": "ef59b9b2",
   "metadata": {},
   "outputs": [],
   "source": [
    "# https://scikit-learn.org/stable/modules/generated/sklearn.preprocessing.StandardScaler.html\n",
    "# z = (x - u) / s\n",
    "# x rep one column/feature \n",
    "# u is the mean \n",
    "# s is the spread \n",
    "# we learn that there is a transformation of the column to be treated equally to all other columns see lin18\n",
    "# compare above 'output2' to 'output 4', we see:\n",
    "# it makes to values centered around zero and equally spread around zero \n",
    "# so StandardScaler is really effecting the concept of Standard deviation and not Standardising anything \n",
    "# that the concept I think we needed to understand here "
   ]
  },
  {
   "cell_type": "markdown",
   "id": "ea7c8e83",
   "metadata": {},
   "source": [
    "Build two versions of a default random forest model, using the normal data (X_train, X_test) and the scaled data (X_train_scaled, X_test_scaled). Print train and test scores for normal and scaled."
   ]
  },
  {
   "cell_type": "code",
   "execution_count": 52,
   "id": "0c1ae722",
   "metadata": {},
   "outputs": [
    {
     "data": {
      "text/plain": [
       "3360     Dropout\n",
       "3923    Graduate\n",
       "1961    Enrolled\n",
       "443     Graduate\n",
       "4332    Graduate\n",
       "          ...   \n",
       "1033    Graduate\n",
       "3264     Dropout\n",
       "1653    Graduate\n",
       "2607     Dropout\n",
       "2732    Enrolled\n",
       "Name: Target, Length: 3318, dtype: object"
      ]
     },
     "execution_count": 52,
     "metadata": {},
     "output_type": "execute_result"
    }
   ],
   "source": [
    "#using the normal data (X_train, X_test) \n",
    "y_train\n",
    "# guides me to use a RandomForestClassifer cos Yes Or No \n",
    "# RandomForestRegressor would be used it y was numeric"
   ]
  },
  {
   "cell_type": "code",
   "execution_count": 53,
   "id": "419d088c",
   "metadata": {},
   "outputs": [
    {
     "name": "stdout",
     "output_type": "stream",
     "text": [
      "Accuracy on training set: 1.000\n",
      "Accuracy on test set: 0.780\n"
     ]
    }
   ],
   "source": [
    "forest = RandomForestClassifier(random_state=0)# build the forest classifer \n",
    "forest.fit(X_train, y_train) # train model \n",
    "print(\"Accuracy on training set: {:.3f}\".format(forest.score(X_train, y_train)))\n",
    "print(\"Accuracy on test set: {:.3f}\".format(forest.score(X_test, y_test)))"
   ]
  },
  {
   "cell_type": "code",
   "execution_count": 54,
   "id": "a523f9d7",
   "metadata": {},
   "outputs": [],
   "source": [
    "# scaled data (X_train_scaled, X_test_scaled)"
   ]
  },
  {
   "cell_type": "code",
   "execution_count": 55,
   "id": "a6769d14",
   "metadata": {},
   "outputs": [
    {
     "name": "stdout",
     "output_type": "stream",
     "text": [
      "Accuracy on training set: 1.000\n",
      "Accuracy on test set: 0.779\n"
     ]
    }
   ],
   "source": [
    "forest = RandomForestClassifier(random_state=0)# build the forest classifer\n",
    "forest.fit(X_train_scaled, y_train) # train model \n",
    "print(\"Accuracy on training set: {:.3f}\".format(forest.score(X_train_scaled, y_train)))\n",
    "print(\"Accuracy on test set: {:.3f}\".format(forest.score(X_test_scaled, y_test)))"
   ]
  },
  {
   "cell_type": "markdown",
   "id": "515cf5ab",
   "metadata": {},
   "source": [
    "## Build Multi-layer Perceptron (MLP) Classifier"
   ]
  },
  {
   "cell_type": "markdown",
   "id": "88269088",
   "metadata": {},
   "source": [
    "Now try mlp models with different values for the hidden layer size. Try with a single hidden layer, with sizes ranging from 1 to 100, incremented by 5. (Use the MLP parameter, hidden_layer_sizes, which takes a value as a tuple -- for a single hidden layer, just one value in parenthesis.) Save the train and test scores in two lists, and print the results, sorted by test score."
   ]
  },
  {
   "cell_type": "code",
   "execution_count": 56,
   "id": "826b1f79",
   "metadata": {},
   "outputs": [
    {
     "name": "stdout",
     "output_type": "stream",
     "text": [
      "Accuracy on training set: 0.792\n",
      "Accuracy on test set: 0.756\n"
     ]
    }
   ],
   "source": [
    "mlp = MLPClassifier(max_iter=1000)# build the classifier\n",
    "mlp.fit(X_train, y_train) # train model \n",
    "print(\"Accuracy on training set: {:.3f}\".format(mlp.score(X_train, y_train)))\n",
    "print(\"Accuracy on test set: {:.3f}\".format(mlp.score(X_test, y_test)))"
   ]
  },
  {
   "cell_type": "code",
   "execution_count": 57,
   "id": "f66f2095",
   "metadata": {},
   "outputs": [
    {
     "data": {
      "text/html": [
       "<div>\n",
       "<style scoped>\n",
       "    .dataframe tbody tr th:only-of-type {\n",
       "        vertical-align: middle;\n",
       "    }\n",
       "\n",
       "    .dataframe tbody tr th {\n",
       "        vertical-align: top;\n",
       "    }\n",
       "\n",
       "    .dataframe thead th {\n",
       "        text-align: right;\n",
       "    }\n",
       "</style>\n",
       "<table border=\"1\" class=\"dataframe\">\n",
       "  <thead>\n",
       "    <tr style=\"text-align: right;\">\n",
       "      <th></th>\n",
       "      <th>hidden-layer-size</th>\n",
       "      <th>Train_score</th>\n",
       "      <th>Test_score</th>\n",
       "      <th>recall</th>\n",
       "    </tr>\n",
       "  </thead>\n",
       "  <tbody>\n",
       "    <tr>\n",
       "      <th>19</th>\n",
       "      <td>96</td>\n",
       "      <td>0.808921</td>\n",
       "      <td>0.773056</td>\n",
       "      <td>0.756374</td>\n",
       "    </tr>\n",
       "    <tr>\n",
       "      <th>20</th>\n",
       "      <td>101</td>\n",
       "      <td>0.797468</td>\n",
       "      <td>0.769439</td>\n",
       "      <td>0.730878</td>\n",
       "    </tr>\n",
       "    <tr>\n",
       "      <th>14</th>\n",
       "      <td>71</td>\n",
       "      <td>0.793852</td>\n",
       "      <td>0.755877</td>\n",
       "      <td>0.739377</td>\n",
       "    </tr>\n",
       "    <tr>\n",
       "      <th>9</th>\n",
       "      <td>46</td>\n",
       "      <td>0.789030</td>\n",
       "      <td>0.760398</td>\n",
       "      <td>0.798867</td>\n",
       "    </tr>\n",
       "    <tr>\n",
       "      <th>15</th>\n",
       "      <td>76</td>\n",
       "      <td>0.786618</td>\n",
       "      <td>0.756781</td>\n",
       "      <td>0.645892</td>\n",
       "    </tr>\n",
       "    <tr>\n",
       "      <th>17</th>\n",
       "      <td>86</td>\n",
       "      <td>0.786317</td>\n",
       "      <td>0.756781</td>\n",
       "      <td>0.722380</td>\n",
       "    </tr>\n",
       "    <tr>\n",
       "      <th>12</th>\n",
       "      <td>61</td>\n",
       "      <td>0.785714</td>\n",
       "      <td>0.765823</td>\n",
       "      <td>0.747875</td>\n",
       "    </tr>\n",
       "    <tr>\n",
       "      <th>13</th>\n",
       "      <td>66</td>\n",
       "      <td>0.784810</td>\n",
       "      <td>0.759494</td>\n",
       "      <td>0.747875</td>\n",
       "    </tr>\n",
       "    <tr>\n",
       "      <th>7</th>\n",
       "      <td>36</td>\n",
       "      <td>0.781796</td>\n",
       "      <td>0.766727</td>\n",
       "      <td>0.736544</td>\n",
       "    </tr>\n",
       "    <tr>\n",
       "      <th>10</th>\n",
       "      <td>51</td>\n",
       "      <td>0.781193</td>\n",
       "      <td>0.765823</td>\n",
       "      <td>0.730878</td>\n",
       "    </tr>\n",
       "    <tr>\n",
       "      <th>11</th>\n",
       "      <td>56</td>\n",
       "      <td>0.781193</td>\n",
       "      <td>0.758590</td>\n",
       "      <td>0.696884</td>\n",
       "    </tr>\n",
       "    <tr>\n",
       "      <th>16</th>\n",
       "      <td>81</td>\n",
       "      <td>0.778180</td>\n",
       "      <td>0.767631</td>\n",
       "      <td>0.728045</td>\n",
       "    </tr>\n",
       "    <tr>\n",
       "      <th>8</th>\n",
       "      <td>41</td>\n",
       "      <td>0.773056</td>\n",
       "      <td>0.767631</td>\n",
       "      <td>0.790368</td>\n",
       "    </tr>\n",
       "    <tr>\n",
       "      <th>6</th>\n",
       "      <td>31</td>\n",
       "      <td>0.773056</td>\n",
       "      <td>0.766727</td>\n",
       "      <td>0.739377</td>\n",
       "    </tr>\n",
       "    <tr>\n",
       "      <th>18</th>\n",
       "      <td>91</td>\n",
       "      <td>0.770946</td>\n",
       "      <td>0.769439</td>\n",
       "      <td>0.798867</td>\n",
       "    </tr>\n",
       "    <tr>\n",
       "      <th>5</th>\n",
       "      <td>26</td>\n",
       "      <td>0.761603</td>\n",
       "      <td>0.757685</td>\n",
       "      <td>0.702550</td>\n",
       "    </tr>\n",
       "    <tr>\n",
       "      <th>2</th>\n",
       "      <td>11</td>\n",
       "      <td>0.759494</td>\n",
       "      <td>0.766727</td>\n",
       "      <td>0.728045</td>\n",
       "    </tr>\n",
       "    <tr>\n",
       "      <th>4</th>\n",
       "      <td>21</td>\n",
       "      <td>0.758891</td>\n",
       "      <td>0.766727</td>\n",
       "      <td>0.722380</td>\n",
       "    </tr>\n",
       "    <tr>\n",
       "      <th>1</th>\n",
       "      <td>6</td>\n",
       "      <td>0.756178</td>\n",
       "      <td>0.773960</td>\n",
       "      <td>0.779037</td>\n",
       "    </tr>\n",
       "    <tr>\n",
       "      <th>3</th>\n",
       "      <td>16</td>\n",
       "      <td>0.754069</td>\n",
       "      <td>0.766727</td>\n",
       "      <td>0.694051</td>\n",
       "    </tr>\n",
       "    <tr>\n",
       "      <th>0</th>\n",
       "      <td>1</td>\n",
       "      <td>0.739301</td>\n",
       "      <td>0.745931</td>\n",
       "      <td>0.804533</td>\n",
       "    </tr>\n",
       "  </tbody>\n",
       "</table>\n",
       "</div>"
      ],
      "text/plain": [
       "    hidden-layer-size  Train_score  Test_score    recall\n",
       "19                 96     0.808921    0.773056  0.756374\n",
       "20                101     0.797468    0.769439  0.730878\n",
       "14                 71     0.793852    0.755877  0.739377\n",
       "9                  46     0.789030    0.760398  0.798867\n",
       "15                 76     0.786618    0.756781  0.645892\n",
       "17                 86     0.786317    0.756781  0.722380\n",
       "12                 61     0.785714    0.765823  0.747875\n",
       "13                 66     0.784810    0.759494  0.747875\n",
       "7                  36     0.781796    0.766727  0.736544\n",
       "10                 51     0.781193    0.765823  0.730878\n",
       "11                 56     0.781193    0.758590  0.696884\n",
       "16                 81     0.778180    0.767631  0.728045\n",
       "8                  41     0.773056    0.767631  0.790368\n",
       "6                  31     0.773056    0.766727  0.739377\n",
       "18                 91     0.770946    0.769439  0.798867\n",
       "5                  26     0.761603    0.757685  0.702550\n",
       "2                  11     0.759494    0.766727  0.728045\n",
       "4                  21     0.758891    0.766727  0.722380\n",
       "1                   6     0.756178    0.773960  0.779037\n",
       "3                  16     0.754069    0.766727  0.694051\n",
       "0                   1     0.739301    0.745931  0.804533"
      ]
     },
     "execution_count": 57,
     "metadata": {},
     "output_type": "execute_result"
    }
   ],
   "source": [
    "# aim is to tune the MLP \n",
    "# https://www.youtube.com/watch?v=u5GAVdLQyIg\n",
    "# https://scikit-learn.org/stable/modules/generated/sklearn.neural_network.MLPClassifier.html\n",
    "list_of_entries = []\n",
    "headers = [\"hidden-layer-size\", \"Train_score\", \"Test_score\",'recall']\n",
    "for count in range (1,102,5): #increment 5 at each iteration\n",
    "    mlp = MLPClassifier(hidden_layer_sizes = count, max_iter=1000)\n",
    "    mlp.fit(X_train, y_train) # train model \n",
    "    y_pred = mlp.predict(X_test)\n",
    "    entry = [count, mlp.score(X_train, y_train),\n",
    "             mlp.score(X_test,y_test),\n",
    "            recall_score(y_test,y_pred, labels=class_labels,average=None)[1]] #adding the scores to variable\n",
    "    list_of_entries.append(entry)\n",
    "dfOpt = pd.DataFrame(list_of_entries, columns= headers)\n",
    "dfOpt.sort_values(by=[\"Train_score\", \"Test_score\"], ascending=False)"
   ]
  },
  {
   "cell_type": "markdown",
   "id": "221651d8",
   "metadata": {},
   "source": [
    "## Results: confusion matrix for MLP"
   ]
  },
  {
   "cell_type": "code",
   "execution_count": 58,
   "id": "6a607a3f",
   "metadata": {},
   "outputs": [
    {
     "data": {
      "image/png": "[encoded data removed]",
      "text/plain": [
       "<Figure size 432x288 with 2 Axes>"
      ]
     },
     "metadata": {
      "needs_background": "light"
     },
     "output_type": "display_data"
    },
    {
     "name": "stdout",
     "output_type": "stream",
     "text": [
      "              precision    recall  f1-score   support\n",
      "\n",
      "    Graduate       0.80      0.91      0.85       560\n",
      "     Dropout       0.75      0.78      0.76       353\n",
      "    Enrolled       0.55      0.30      0.39       193\n",
      "\n",
      "    accuracy                           0.76      1106\n",
      "   macro avg       0.70      0.66      0.67      1106\n",
      "weighted avg       0.74      0.76      0.74      1106\n",
      "\n"
     ]
    }
   ],
   "source": [
    "# Make predictions on the test data\n",
    "mlp = MLPClassifier(hidden_layer_sizes = 56, max_iter=1000) # we selcted hidden_layer_sizes = 56\n",
    "mlp.fit(X_train, y_train) # train model \n",
    "y_pred = mlp.predict(X_test)\n",
    "plot_confusion_matrix( y_test, y_pred, 'confusion-mlp.png')\n",
    "print(classification_report(y_test,y_pred,labels=class_labels))"
   ]
  },
  {
   "cell_type": "code",
   "execution_count": 59,
   "id": "757d3767",
   "metadata": {},
   "outputs": [
    {
     "data": {
      "image/png": "[encoded data removed]",
      "text/plain": [
       "<Figure size 432x288 with 1 Axes>"
      ]
     },
     "metadata": {
      "needs_background": "light"
     },
     "output_type": "display_data"
    }
   ],
   "source": [
    "# typically we would have a set of data for tuning, in the project we can do it this way \n",
    "# we will not set up a validation data set \n",
    "# x axis - a list of the values for number of estimators\n",
    "\n",
    "# y axis - list of train scores\n",
    "# two arguments to plot are the x axis values and the y axis values\n",
    "\n",
    "# do another plot, with same x axis, and on the y axis - list of test scores\n",
    "\n",
    "# finally need to show the plots\n",
    "\n",
    "plt.plot(dfOpt['hidden-layer-size'], dfOpt['Test_score'], label='Test scores')\n",
    "plt.plot(dfOpt['hidden-layer-size'], dfOpt['Train_score'], label='Train scores')\n",
    "plt.legend()\n",
    "plt.xlabel('Hidden layer size')\n",
    "plt.show()"
   ]
  },
  {
   "cell_type": "markdown",
   "id": "86ea633a",
   "metadata": {},
   "source": [
    "Findings: So we find the training data to be slightly better than the testing data with outlier sitting at 21 and 96, not sure why."
   ]
  },
  {
   "cell_type": "markdown",
   "id": "8ba6c275",
   "metadata": {},
   "source": [
    "### Build a scaled version of the data, using Standard Scaler"
   ]
  },
  {
   "cell_type": "markdown",
   "id": "7c844fac",
   "metadata": {},
   "source": [
    "Load the telco data file we used in Lab 3, and perform a train-test split. Create a scaled version of the data, using Standard Scaler. Call the scaled version X_train_scaled, and X_test_scaled."
   ]
  },
  {
   "cell_type": "markdown",
   "id": "ad14bfd5",
   "metadata": {},
   "source": [
    "Build two versions of a default mlp model, using the normal data (X_train, X_test) and the scaled data (X_train_scaled, X_test_scaled). Print train and test scores for normal and scaled."
   ]
  },
  {
   "cell_type": "code",
   "execution_count": 60,
   "id": "86b5980d",
   "metadata": {},
   "outputs": [],
   "source": [
    "# this instantiate an object of StandardScaler, this means it creates a 'workspace/tool' in my sklearn 'toolbox' \n",
    "scaler = StandardScaler()\n",
    "# now we show the scaler the data, to say look at this \n",
    "scaler.fit(X_train) \n",
    "\n",
    "# now we apply the scaler to the training set\n",
    "X_train_scaled = scaler.transform(X_train) \n",
    "\n",
    "# now we apply the scaler to the test set\n",
    "#if we use a scaler we need to remember to create Train and Test that is scaled\n",
    "X_test_scaled = scaler.transform(X_test) "
   ]
  },
  {
   "cell_type": "markdown",
   "id": "c23191e2",
   "metadata": {},
   "source": [
    "Build two versions of a default mlp model, using the normal data (X_train, X_test) and the scaled data (X_train_scaled, X_test_scaled). Print train and test scores for normal and scaled."
   ]
  },
  {
   "cell_type": "code",
   "execution_count": 61,
   "id": "0035ba20",
   "metadata": {},
   "outputs": [],
   "source": [
    "# using the normal data (X_train, X_test) "
   ]
  },
  {
   "cell_type": "code",
   "execution_count": 62,
   "id": "f70e9d14",
   "metadata": {},
   "outputs": [
    {
     "name": "stdout",
     "output_type": "stream",
     "text": [
      "Accuracy on training set: 0.817\n",
      "Accuracy on test set: 0.754\n"
     ]
    }
   ],
   "source": [
    "mlp = MLPClassifier()# build the classifier\n",
    "mlp.fit(X_train, y_train) # train model \n",
    "print(\"Accuracy on training set: {:.3f}\".format(mlp.score(X_train, y_train)))\n",
    "print(\"Accuracy on test set: {:.3f}\".format(mlp.score(X_test, y_test)))"
   ]
  },
  {
   "cell_type": "code",
   "execution_count": 63,
   "id": "933976ee",
   "metadata": {},
   "outputs": [],
   "source": [
    "# scaled data (X_train_scaled, X_test_scaled)"
   ]
  },
  {
   "cell_type": "code",
   "execution_count": 64,
   "id": "6cd7db68",
   "metadata": {},
   "outputs": [
    {
     "name": "stdout",
     "output_type": "stream",
     "text": [
      "Accuracy on training set: 0.825\n",
      "Accuracy on test set: 0.681\n"
     ]
    },
    {
     "name": "stderr",
     "output_type": "stream",
     "text": [
      "/opt/anaconda3/lib/python3.9/site-packages/sklearn/neural_network/_multilayer_perceptron.py:692: ConvergenceWarning: Stochastic Optimizer: Maximum iterations (200) reached and the optimization hasn't converged yet.\n",
      "  warnings.warn(\n",
      "/opt/anaconda3/lib/python3.9/site-packages/sklearn/base.py:443: UserWarning: X has feature names, but MLPClassifier was fitted without feature names\n",
      "  warnings.warn(\n"
     ]
    }
   ],
   "source": [
    "mlp = MLPClassifier()# build the classifier\n",
    "mlp.fit(X_train_scaled, y_train) # train model \n",
    "print(\"Accuracy on training set: {:.3f}\".format(mlp.score(X_train_scaled, y_train)))\n",
    "print(\"Accuracy on test set: {:.3f}\".format(mlp.score(X_test, y_test)))"
   ]
  },
  {
   "cell_type": "markdown",
   "id": "e36ac2e8",
   "metadata": {},
   "source": [
    "Now try mlp models with different values for the hidden layer size. Try with two hidden layers, with sizes ranging from 1 to 20, incremented by 5. For each iteration, fit the model to both the normal and scaled data. Save the train and test scores for both in two lists. Also print the scaled and normal results at each iteration."
   ]
  },
  {
   "cell_type": "code",
   "execution_count": 65,
   "id": "fb0589d5",
   "metadata": {},
   "outputs": [],
   "source": [
    "# normal data"
   ]
  },
  {
   "cell_type": "code",
   "execution_count": 66,
   "id": "7c7c69d7",
   "metadata": {},
   "outputs": [
    {
     "name": "stderr",
     "output_type": "stream",
     "text": [
      "/opt/anaconda3/lib/python3.9/site-packages/sklearn/base.py:450: UserWarning: X does not have valid feature names, but MLPClassifier was fitted with feature names\n",
      "  warnings.warn(\n",
      "/opt/anaconda3/lib/python3.9/site-packages/sklearn/neural_network/_multilayer_perceptron.py:692: ConvergenceWarning: Stochastic Optimizer: Maximum iterations (200) reached and the optimization hasn't converged yet.\n",
      "  warnings.warn(\n",
      "/opt/anaconda3/lib/python3.9/site-packages/sklearn/base.py:450: UserWarning: X does not have valid feature names, but MLPClassifier was fitted with feature names\n",
      "  warnings.warn(\n",
      "/opt/anaconda3/lib/python3.9/site-packages/sklearn/neural_network/_multilayer_perceptron.py:692: ConvergenceWarning: Stochastic Optimizer: Maximum iterations (200) reached and the optimization hasn't converged yet.\n",
      "  warnings.warn(\n",
      "/opt/anaconda3/lib/python3.9/site-packages/sklearn/base.py:450: UserWarning: X does not have valid feature names, but MLPClassifier was fitted with feature names\n",
      "  warnings.warn(\n",
      "/opt/anaconda3/lib/python3.9/site-packages/sklearn/neural_network/_multilayer_perceptron.py:692: ConvergenceWarning: Stochastic Optimizer: Maximum iterations (200) reached and the optimization hasn't converged yet.\n",
      "  warnings.warn(\n",
      "/opt/anaconda3/lib/python3.9/site-packages/sklearn/base.py:450: UserWarning: X does not have valid feature names, but MLPClassifier was fitted with feature names\n",
      "  warnings.warn(\n",
      "/opt/anaconda3/lib/python3.9/site-packages/sklearn/neural_network/_multilayer_perceptron.py:692: ConvergenceWarning: Stochastic Optimizer: Maximum iterations (200) reached and the optimization hasn't converged yet.\n",
      "  warnings.warn(\n",
      "/opt/anaconda3/lib/python3.9/site-packages/sklearn/base.py:450: UserWarning: X does not have valid feature names, but MLPClassifier was fitted with feature names\n",
      "  warnings.warn(\n",
      "/opt/anaconda3/lib/python3.9/site-packages/sklearn/neural_network/_multilayer_perceptron.py:692: ConvergenceWarning: Stochastic Optimizer: Maximum iterations (200) reached and the optimization hasn't converged yet.\n",
      "  warnings.warn(\n",
      "/opt/anaconda3/lib/python3.9/site-packages/sklearn/neural_network/_multilayer_perceptron.py:692: ConvergenceWarning: Stochastic Optimizer: Maximum iterations (200) reached and the optimization hasn't converged yet.\n",
      "  warnings.warn(\n",
      "/opt/anaconda3/lib/python3.9/site-packages/sklearn/base.py:450: UserWarning: X does not have valid feature names, but MLPClassifier was fitted with feature names\n",
      "  warnings.warn(\n",
      "/opt/anaconda3/lib/python3.9/site-packages/sklearn/neural_network/_multilayer_perceptron.py:692: ConvergenceWarning: Stochastic Optimizer: Maximum iterations (200) reached and the optimization hasn't converged yet.\n",
      "  warnings.warn(\n",
      "/opt/anaconda3/lib/python3.9/site-packages/sklearn/neural_network/_multilayer_perceptron.py:692: ConvergenceWarning: Stochastic Optimizer: Maximum iterations (200) reached and the optimization hasn't converged yet.\n",
      "  warnings.warn(\n",
      "/opt/anaconda3/lib/python3.9/site-packages/sklearn/base.py:450: UserWarning: X does not have valid feature names, but MLPClassifier was fitted with feature names\n",
      "  warnings.warn(\n",
      "/opt/anaconda3/lib/python3.9/site-packages/sklearn/neural_network/_multilayer_perceptron.py:692: ConvergenceWarning: Stochastic Optimizer: Maximum iterations (200) reached and the optimization hasn't converged yet.\n",
      "  warnings.warn(\n",
      "/opt/anaconda3/lib/python3.9/site-packages/sklearn/neural_network/_multilayer_perceptron.py:692: ConvergenceWarning: Stochastic Optimizer: Maximum iterations (200) reached and the optimization hasn't converged yet.\n",
      "  warnings.warn(\n",
      "/opt/anaconda3/lib/python3.9/site-packages/sklearn/base.py:450: UserWarning: X does not have valid feature names, but MLPClassifier was fitted with feature names\n",
      "  warnings.warn(\n",
      "/opt/anaconda3/lib/python3.9/site-packages/sklearn/neural_network/_multilayer_perceptron.py:692: ConvergenceWarning: Stochastic Optimizer: Maximum iterations (200) reached and the optimization hasn't converged yet.\n",
      "  warnings.warn(\n",
      "/opt/anaconda3/lib/python3.9/site-packages/sklearn/base.py:450: UserWarning: X does not have valid feature names, but MLPClassifier was fitted with feature names\n",
      "  warnings.warn(\n",
      "/opt/anaconda3/lib/python3.9/site-packages/sklearn/neural_network/_multilayer_perceptron.py:692: ConvergenceWarning: Stochastic Optimizer: Maximum iterations (200) reached and the optimization hasn't converged yet.\n",
      "  warnings.warn(\n",
      "/opt/anaconda3/lib/python3.9/site-packages/sklearn/neural_network/_multilayer_perceptron.py:692: ConvergenceWarning: Stochastic Optimizer: Maximum iterations (200) reached and the optimization hasn't converged yet.\n",
      "  warnings.warn(\n",
      "/opt/anaconda3/lib/python3.9/site-packages/sklearn/base.py:450: UserWarning: X does not have valid feature names, but MLPClassifier was fitted with feature names\n",
      "  warnings.warn(\n",
      "/opt/anaconda3/lib/python3.9/site-packages/sklearn/neural_network/_multilayer_perceptron.py:692: ConvergenceWarning: Stochastic Optimizer: Maximum iterations (200) reached and the optimization hasn't converged yet.\n",
      "  warnings.warn(\n",
      "/opt/anaconda3/lib/python3.9/site-packages/sklearn/neural_network/_multilayer_perceptron.py:692: ConvergenceWarning: Stochastic Optimizer: Maximum iterations (200) reached and the optimization hasn't converged yet.\n",
      "  warnings.warn(\n",
      "/opt/anaconda3/lib/python3.9/site-packages/sklearn/base.py:450: UserWarning: X does not have valid feature names, but MLPClassifier was fitted with feature names\n",
      "  warnings.warn(\n",
      "/opt/anaconda3/lib/python3.9/site-packages/sklearn/neural_network/_multilayer_perceptron.py:692: ConvergenceWarning: Stochastic Optimizer: Maximum iterations (200) reached and the optimization hasn't converged yet.\n",
      "  warnings.warn(\n",
      "/opt/anaconda3/lib/python3.9/site-packages/sklearn/neural_network/_multilayer_perceptron.py:692: ConvergenceWarning: Stochastic Optimizer: Maximum iterations (200) reached and the optimization hasn't converged yet.\n",
      "  warnings.warn(\n",
      "/opt/anaconda3/lib/python3.9/site-packages/sklearn/base.py:450: UserWarning: X does not have valid feature names, but MLPClassifier was fitted with feature names\n",
      "  warnings.warn(\n",
      "/opt/anaconda3/lib/python3.9/site-packages/sklearn/neural_network/_multilayer_perceptron.py:692: ConvergenceWarning: Stochastic Optimizer: Maximum iterations (200) reached and the optimization hasn't converged yet.\n",
      "  warnings.warn(\n",
      "/opt/anaconda3/lib/python3.9/site-packages/sklearn/base.py:450: UserWarning: X does not have valid feature names, but MLPClassifier was fitted with feature names\n",
      "  warnings.warn(\n",
      "/opt/anaconda3/lib/python3.9/site-packages/sklearn/neural_network/_multilayer_perceptron.py:692: ConvergenceWarning: Stochastic Optimizer: Maximum iterations (200) reached and the optimization hasn't converged yet.\n",
      "  warnings.warn(\n",
      "/opt/anaconda3/lib/python3.9/site-packages/sklearn/neural_network/_multilayer_perceptron.py:692: ConvergenceWarning: Stochastic Optimizer: Maximum iterations (200) reached and the optimization hasn't converged yet.\n",
      "  warnings.warn(\n",
      "/opt/anaconda3/lib/python3.9/site-packages/sklearn/base.py:450: UserWarning: X does not have valid feature names, but MLPClassifier was fitted with feature names\n",
      "  warnings.warn(\n",
      "/opt/anaconda3/lib/python3.9/site-packages/sklearn/neural_network/_multilayer_perceptron.py:692: ConvergenceWarning: Stochastic Optimizer: Maximum iterations (200) reached and the optimization hasn't converged yet.\n",
      "  warnings.warn(\n",
      "/opt/anaconda3/lib/python3.9/site-packages/sklearn/base.py:450: UserWarning: X does not have valid feature names, but MLPClassifier was fitted with feature names\n",
      "  warnings.warn(\n",
      "/opt/anaconda3/lib/python3.9/site-packages/sklearn/neural_network/_multilayer_perceptron.py:692: ConvergenceWarning: Stochastic Optimizer: Maximum iterations (200) reached and the optimization hasn't converged yet.\n",
      "  warnings.warn(\n",
      "/opt/anaconda3/lib/python3.9/site-packages/sklearn/neural_network/_multilayer_perceptron.py:692: ConvergenceWarning: Stochastic Optimizer: Maximum iterations (200) reached and the optimization hasn't converged yet.\n",
      "  warnings.warn(\n",
      "/opt/anaconda3/lib/python3.9/site-packages/sklearn/base.py:450: UserWarning: X does not have valid feature names, but MLPClassifier was fitted with feature names\n",
      "  warnings.warn(\n"
     ]
    }
   ],
   "source": [
    "# aim is to tune the MLP \n",
    "# https://www.youtube.com/watch?v=u5GAVdLQyIg\n",
    "# https://scikit-learn.org/stable/modules/generated/sklearn.neural_network.MLPClassifier.html\n",
    "list_of_entries = []\n",
    "headers = [\"hidden-layer-size L1\", \"hidden-layer-size L2\",\n",
    "           \"Train_score\", \"Test_score\",                                   \n",
    "           \"Train_score_scaled\", \"Test_score_scaled\", 'recall_score', \"recall_scaled\"]\n",
    "\n",
    "for count1 in range (1,21,5): #increment 5 at each iteration\n",
    "    for count2 in range (1,21,5): #increment 5 at each iteration\n",
    "       \n",
    "        # this means it creates a 'workspace/tool' in my sklearn 'toolbox' for to use the MLPClassifier\n",
    "        #tuple of count1 and count2 to create 2 hidden layers\n",
    "        mlp = MLPClassifier(hidden_layer_sizes = (count1,count2)) # we define the layers of the hidden layers\n",
    "        mlp_scaled = MLPClassifier(hidden_layer_sizes = (count1,count2))\n",
    "        \n",
    "        mlp.fit(X_train, y_train) # train model \n",
    "        mlp_scaled.fit(X_train_scaled, y_train) # train model for scaled data\n",
    "        y_pred = mlp.predict(X_test)\n",
    "        y_pred_scaled = mlp.predict(X_test_scaled)\n",
    "        #adding the scores to variable 'entry'\n",
    "        entry = [count1, count2, mlp.score(X_train, y_train), \n",
    "                                 mlp.score(X_test,y_test),\n",
    "                                 mlp_scaled.score(X_train_scaled, y_train), \n",
    "                                 mlp_scaled.score(X_test_scaled,y_test),\n",
    "                recall_score(y_test,y_pred, labels=class_labels,average=None)[1],\n",
    "                recall_score(y_test,y_pred_scaled, labels=class_labels,average=None)[1]\n",
    "            ]\n",
    "        list_of_entries.append(entry)\n",
    "        \n",
    "df = pd.DataFrame(list_of_entries, columns= headers)"
   ]
  },
  {
   "cell_type": "code",
   "execution_count": 67,
   "id": "5dc271c7",
   "metadata": {},
   "outputs": [
    {
     "data": {
      "text/html": [
       "<div>\n",
       "<style scoped>\n",
       "    .dataframe tbody tr th:only-of-type {\n",
       "        vertical-align: middle;\n",
       "    }\n",
       "\n",
       "    .dataframe tbody tr th {\n",
       "        vertical-align: top;\n",
       "    }\n",
       "\n",
       "    .dataframe thead th {\n",
       "        text-align: right;\n",
       "    }\n",
       "</style>\n",
       "<table border=\"1\" class=\"dataframe\">\n",
       "  <thead>\n",
       "    <tr style=\"text-align: right;\">\n",
       "      <th></th>\n",
       "      <th>hidden-layer-size L1</th>\n",
       "      <th>hidden-layer-size L2</th>\n",
       "      <th>Train_score</th>\n",
       "      <th>Test_score</th>\n",
       "      <th>Train_score_scaled</th>\n",
       "      <th>Test_score_scaled</th>\n",
       "      <th>recall_score</th>\n",
       "      <th>recall_scaled</th>\n",
       "    </tr>\n",
       "  </thead>\n",
       "  <tbody>\n",
       "    <tr>\n",
       "      <th>9</th>\n",
       "      <td>11</td>\n",
       "      <td>6</td>\n",
       "      <td>0.742616</td>\n",
       "      <td>0.741410</td>\n",
       "      <td>0.779988</td>\n",
       "      <td>0.763110</td>\n",
       "      <td>0.815864</td>\n",
       "      <td>0.266289</td>\n",
       "    </tr>\n",
       "    <tr>\n",
       "      <th>5</th>\n",
       "      <td>6</td>\n",
       "      <td>6</td>\n",
       "      <td>0.735684</td>\n",
       "      <td>0.751356</td>\n",
       "      <td>0.765823</td>\n",
       "      <td>0.768535</td>\n",
       "      <td>0.810198</td>\n",
       "      <td>1.000000</td>\n",
       "    </tr>\n",
       "    <tr>\n",
       "      <th>13</th>\n",
       "      <td>16</td>\n",
       "      <td>6</td>\n",
       "      <td>0.753165</td>\n",
       "      <td>0.754069</td>\n",
       "      <td>0.783002</td>\n",
       "      <td>0.763110</td>\n",
       "      <td>0.790368</td>\n",
       "      <td>1.000000</td>\n",
       "    </tr>\n",
       "    <tr>\n",
       "      <th>6</th>\n",
       "      <td>6</td>\n",
       "      <td>11</td>\n",
       "      <td>0.756178</td>\n",
       "      <td>0.772152</td>\n",
       "      <td>0.760699</td>\n",
       "      <td>0.781193</td>\n",
       "      <td>0.781870</td>\n",
       "      <td>0.886686</td>\n",
       "    </tr>\n",
       "    <tr>\n",
       "      <th>11</th>\n",
       "      <td>11</td>\n",
       "      <td>16</td>\n",
       "      <td>0.754069</td>\n",
       "      <td>0.767631</td>\n",
       "      <td>0.780892</td>\n",
       "      <td>0.781193</td>\n",
       "      <td>0.781870</td>\n",
       "      <td>0.617564</td>\n",
       "    </tr>\n",
       "    <tr>\n",
       "      <th>3</th>\n",
       "      <td>1</td>\n",
       "      <td>16</td>\n",
       "      <td>0.735684</td>\n",
       "      <td>0.750452</td>\n",
       "      <td>0.735383</td>\n",
       "      <td>0.747740</td>\n",
       "      <td>0.781870</td>\n",
       "      <td>0.305949</td>\n",
       "    </tr>\n",
       "    <tr>\n",
       "      <th>14</th>\n",
       "      <td>16</td>\n",
       "      <td>11</td>\n",
       "      <td>0.766124</td>\n",
       "      <td>0.771248</td>\n",
       "      <td>0.786016</td>\n",
       "      <td>0.761302</td>\n",
       "      <td>0.779037</td>\n",
       "      <td>0.679887</td>\n",
       "    </tr>\n",
       "    <tr>\n",
       "      <th>2</th>\n",
       "      <td>1</td>\n",
       "      <td>11</td>\n",
       "      <td>0.717601</td>\n",
       "      <td>0.746835</td>\n",
       "      <td>0.741712</td>\n",
       "      <td>0.754069</td>\n",
       "      <td>0.770538</td>\n",
       "      <td>1.000000</td>\n",
       "    </tr>\n",
       "    <tr>\n",
       "      <th>1</th>\n",
       "      <td>1</td>\n",
       "      <td>6</td>\n",
       "      <td>0.738698</td>\n",
       "      <td>0.743219</td>\n",
       "      <td>0.737191</td>\n",
       "      <td>0.747740</td>\n",
       "      <td>0.770538</td>\n",
       "      <td>0.334278</td>\n",
       "    </tr>\n",
       "    <tr>\n",
       "      <th>15</th>\n",
       "      <td>16</td>\n",
       "      <td>16</td>\n",
       "      <td>0.771549</td>\n",
       "      <td>0.763110</td>\n",
       "      <td>0.795660</td>\n",
       "      <td>0.765823</td>\n",
       "      <td>0.764873</td>\n",
       "      <td>0.807365</td>\n",
       "    </tr>\n",
       "    <tr>\n",
       "      <th>10</th>\n",
       "      <td>11</td>\n",
       "      <td>11</td>\n",
       "      <td>0.761603</td>\n",
       "      <td>0.768535</td>\n",
       "      <td>0.773659</td>\n",
       "      <td>0.764919</td>\n",
       "      <td>0.745042</td>\n",
       "      <td>0.458924</td>\n",
       "    </tr>\n",
       "    <tr>\n",
       "      <th>7</th>\n",
       "      <td>6</td>\n",
       "      <td>16</td>\n",
       "      <td>0.748041</td>\n",
       "      <td>0.758590</td>\n",
       "      <td>0.767028</td>\n",
       "      <td>0.765823</td>\n",
       "      <td>0.730878</td>\n",
       "      <td>0.866856</td>\n",
       "    </tr>\n",
       "    <tr>\n",
       "      <th>0</th>\n",
       "      <td>1</td>\n",
       "      <td>1</td>\n",
       "      <td>0.497288</td>\n",
       "      <td>0.505425</td>\n",
       "      <td>0.496986</td>\n",
       "      <td>0.506329</td>\n",
       "      <td>0.000000</td>\n",
       "      <td>0.237960</td>\n",
       "    </tr>\n",
       "    <tr>\n",
       "      <th>4</th>\n",
       "      <td>6</td>\n",
       "      <td>1</td>\n",
       "      <td>0.496986</td>\n",
       "      <td>0.506329</td>\n",
       "      <td>0.742315</td>\n",
       "      <td>0.754973</td>\n",
       "      <td>0.000000</td>\n",
       "      <td>0.124646</td>\n",
       "    </tr>\n",
       "    <tr>\n",
       "      <th>8</th>\n",
       "      <td>11</td>\n",
       "      <td>1</td>\n",
       "      <td>0.496986</td>\n",
       "      <td>0.506329</td>\n",
       "      <td>0.739904</td>\n",
       "      <td>0.738698</td>\n",
       "      <td>0.000000</td>\n",
       "      <td>0.000000</td>\n",
       "    </tr>\n",
       "    <tr>\n",
       "      <th>12</th>\n",
       "      <td>16</td>\n",
       "      <td>1</td>\n",
       "      <td>0.498794</td>\n",
       "      <td>0.507233</td>\n",
       "      <td>0.745931</td>\n",
       "      <td>0.747740</td>\n",
       "      <td>0.000000</td>\n",
       "      <td>0.000000</td>\n",
       "    </tr>\n",
       "  </tbody>\n",
       "</table>\n",
       "</div>"
      ],
      "text/plain": [
       "    hidden-layer-size L1  hidden-layer-size L2  Train_score  Test_score  \\\n",
       "9                     11                     6     0.742616    0.741410   \n",
       "5                      6                     6     0.735684    0.751356   \n",
       "13                    16                     6     0.753165    0.754069   \n",
       "6                      6                    11     0.756178    0.772152   \n",
       "11                    11                    16     0.754069    0.767631   \n",
       "3                      1                    16     0.735684    0.750452   \n",
       "14                    16                    11     0.766124    0.771248   \n",
       "2                      1                    11     0.717601    0.746835   \n",
       "1                      1                     6     0.738698    0.743219   \n",
       "15                    16                    16     0.771549    0.763110   \n",
       "10                    11                    11     0.761603    0.768535   \n",
       "7                      6                    16     0.748041    0.758590   \n",
       "0                      1                     1     0.497288    0.505425   \n",
       "4                      6                     1     0.496986    0.506329   \n",
       "8                     11                     1     0.496986    0.506329   \n",
       "12                    16                     1     0.498794    0.507233   \n",
       "\n",
       "    Train_score_scaled  Test_score_scaled  recall_score  recall_scaled  \n",
       "9             0.779988           0.763110      0.815864       0.266289  \n",
       "5             0.765823           0.768535      0.810198       1.000000  \n",
       "13            0.783002           0.763110      0.790368       1.000000  \n",
       "6             0.760699           0.781193      0.781870       0.886686  \n",
       "11            0.780892           0.781193      0.781870       0.617564  \n",
       "3             0.735383           0.747740      0.781870       0.305949  \n",
       "14            0.786016           0.761302      0.779037       0.679887  \n",
       "2             0.741712           0.754069      0.770538       1.000000  \n",
       "1             0.737191           0.747740      0.770538       0.334278  \n",
       "15            0.795660           0.765823      0.764873       0.807365  \n",
       "10            0.773659           0.764919      0.745042       0.458924  \n",
       "7             0.767028           0.765823      0.730878       0.866856  \n",
       "0             0.496986           0.506329      0.000000       0.237960  \n",
       "4             0.742315           0.754973      0.000000       0.124646  \n",
       "8             0.739904           0.738698      0.000000       0.000000  \n",
       "12            0.745931           0.747740      0.000000       0.000000  "
      ]
     },
     "execution_count": 67,
     "metadata": {},
     "output_type": "execute_result"
    }
   ],
   "source": [
    "df.sort_values(by=[\"recall_score\",\"recall_scaled\"], ascending=False)"
   ]
  },
  {
   "cell_type": "code",
   "execution_count": 68,
   "id": "a8391292",
   "metadata": {},
   "outputs": [
    {
     "data": {
      "image/png": "[encoded data removed]",
      "text/plain": [
       "<Figure size 432x288 with 1 Axes>"
      ]
     },
     "metadata": {
      "needs_background": "light"
     },
     "output_type": "display_data"
    }
   ],
   "source": [
    "plt.plot(df['Test_score'], label='Test scores') #plotting it by df index \n",
    "plt.plot(df['Test_score_scaled'], label='Test scores scaled')\n",
    "plt.legend()\n",
    "plt.xlabel('index')\n",
    "plt.show()"
   ]
  },
  {
   "cell_type": "markdown",
   "id": "deab2ae6",
   "metadata": {},
   "source": [
    "Findings: we can see scaled data set is almost always better expect at index 2 ( hidden level 1 =1 and hl2 = 11)"
   ]
  },
  {
   "cell_type": "code",
   "execution_count": 69,
   "id": "8418f9e6",
   "metadata": {},
   "outputs": [
    {
     "data": {
      "text/html": [
       "<div>\n",
       "<style scoped>\n",
       "    .dataframe tbody tr th:only-of-type {\n",
       "        vertical-align: middle;\n",
       "    }\n",
       "\n",
       "    .dataframe tbody tr th {\n",
       "        vertical-align: top;\n",
       "    }\n",
       "\n",
       "    .dataframe thead th {\n",
       "        text-align: right;\n",
       "    }\n",
       "</style>\n",
       "<table border=\"1\" class=\"dataframe\">\n",
       "  <thead>\n",
       "    <tr style=\"text-align: right;\">\n",
       "      <th></th>\n",
       "      <th>hidden-layer-size L1</th>\n",
       "      <th>hidden-layer-size L2</th>\n",
       "      <th>Train_score</th>\n",
       "      <th>Test_score</th>\n",
       "      <th>Train_score_scaled</th>\n",
       "      <th>Test_score_scaled</th>\n",
       "      <th>recall_score</th>\n",
       "      <th>recall_scaled</th>\n",
       "    </tr>\n",
       "  </thead>\n",
       "  <tbody>\n",
       "    <tr>\n",
       "      <th>11</th>\n",
       "      <td>11</td>\n",
       "      <td>16</td>\n",
       "      <td>0.754069</td>\n",
       "      <td>0.767631</td>\n",
       "      <td>0.780892</td>\n",
       "      <td>0.781193</td>\n",
       "      <td>0.781870</td>\n",
       "      <td>0.617564</td>\n",
       "    </tr>\n",
       "    <tr>\n",
       "      <th>6</th>\n",
       "      <td>6</td>\n",
       "      <td>11</td>\n",
       "      <td>0.756178</td>\n",
       "      <td>0.772152</td>\n",
       "      <td>0.760699</td>\n",
       "      <td>0.781193</td>\n",
       "      <td>0.781870</td>\n",
       "      <td>0.886686</td>\n",
       "    </tr>\n",
       "    <tr>\n",
       "      <th>5</th>\n",
       "      <td>6</td>\n",
       "      <td>6</td>\n",
       "      <td>0.735684</td>\n",
       "      <td>0.751356</td>\n",
       "      <td>0.765823</td>\n",
       "      <td>0.768535</td>\n",
       "      <td>0.810198</td>\n",
       "      <td>1.000000</td>\n",
       "    </tr>\n",
       "    <tr>\n",
       "      <th>15</th>\n",
       "      <td>16</td>\n",
       "      <td>16</td>\n",
       "      <td>0.771549</td>\n",
       "      <td>0.763110</td>\n",
       "      <td>0.795660</td>\n",
       "      <td>0.765823</td>\n",
       "      <td>0.764873</td>\n",
       "      <td>0.807365</td>\n",
       "    </tr>\n",
       "    <tr>\n",
       "      <th>7</th>\n",
       "      <td>6</td>\n",
       "      <td>16</td>\n",
       "      <td>0.748041</td>\n",
       "      <td>0.758590</td>\n",
       "      <td>0.767028</td>\n",
       "      <td>0.765823</td>\n",
       "      <td>0.730878</td>\n",
       "      <td>0.866856</td>\n",
       "    </tr>\n",
       "    <tr>\n",
       "      <th>10</th>\n",
       "      <td>11</td>\n",
       "      <td>11</td>\n",
       "      <td>0.761603</td>\n",
       "      <td>0.768535</td>\n",
       "      <td>0.773659</td>\n",
       "      <td>0.764919</td>\n",
       "      <td>0.745042</td>\n",
       "      <td>0.458924</td>\n",
       "    </tr>\n",
       "    <tr>\n",
       "      <th>13</th>\n",
       "      <td>16</td>\n",
       "      <td>6</td>\n",
       "      <td>0.753165</td>\n",
       "      <td>0.754069</td>\n",
       "      <td>0.783002</td>\n",
       "      <td>0.763110</td>\n",
       "      <td>0.790368</td>\n",
       "      <td>1.000000</td>\n",
       "    </tr>\n",
       "    <tr>\n",
       "      <th>9</th>\n",
       "      <td>11</td>\n",
       "      <td>6</td>\n",
       "      <td>0.742616</td>\n",
       "      <td>0.741410</td>\n",
       "      <td>0.779988</td>\n",
       "      <td>0.763110</td>\n",
       "      <td>0.815864</td>\n",
       "      <td>0.266289</td>\n",
       "    </tr>\n",
       "    <tr>\n",
       "      <th>14</th>\n",
       "      <td>16</td>\n",
       "      <td>11</td>\n",
       "      <td>0.766124</td>\n",
       "      <td>0.771248</td>\n",
       "      <td>0.786016</td>\n",
       "      <td>0.761302</td>\n",
       "      <td>0.779037</td>\n",
       "      <td>0.679887</td>\n",
       "    </tr>\n",
       "    <tr>\n",
       "      <th>4</th>\n",
       "      <td>6</td>\n",
       "      <td>1</td>\n",
       "      <td>0.496986</td>\n",
       "      <td>0.506329</td>\n",
       "      <td>0.742315</td>\n",
       "      <td>0.754973</td>\n",
       "      <td>0.000000</td>\n",
       "      <td>0.124646</td>\n",
       "    </tr>\n",
       "    <tr>\n",
       "      <th>2</th>\n",
       "      <td>1</td>\n",
       "      <td>11</td>\n",
       "      <td>0.717601</td>\n",
       "      <td>0.746835</td>\n",
       "      <td>0.741712</td>\n",
       "      <td>0.754069</td>\n",
       "      <td>0.770538</td>\n",
       "      <td>1.000000</td>\n",
       "    </tr>\n",
       "    <tr>\n",
       "      <th>12</th>\n",
       "      <td>16</td>\n",
       "      <td>1</td>\n",
       "      <td>0.498794</td>\n",
       "      <td>0.507233</td>\n",
       "      <td>0.745931</td>\n",
       "      <td>0.747740</td>\n",
       "      <td>0.000000</td>\n",
       "      <td>0.000000</td>\n",
       "    </tr>\n",
       "    <tr>\n",
       "      <th>1</th>\n",
       "      <td>1</td>\n",
       "      <td>6</td>\n",
       "      <td>0.738698</td>\n",
       "      <td>0.743219</td>\n",
       "      <td>0.737191</td>\n",
       "      <td>0.747740</td>\n",
       "      <td>0.770538</td>\n",
       "      <td>0.334278</td>\n",
       "    </tr>\n",
       "    <tr>\n",
       "      <th>3</th>\n",
       "      <td>1</td>\n",
       "      <td>16</td>\n",
       "      <td>0.735684</td>\n",
       "      <td>0.750452</td>\n",
       "      <td>0.735383</td>\n",
       "      <td>0.747740</td>\n",
       "      <td>0.781870</td>\n",
       "      <td>0.305949</td>\n",
       "    </tr>\n",
       "    <tr>\n",
       "      <th>8</th>\n",
       "      <td>11</td>\n",
       "      <td>1</td>\n",
       "      <td>0.496986</td>\n",
       "      <td>0.506329</td>\n",
       "      <td>0.739904</td>\n",
       "      <td>0.738698</td>\n",
       "      <td>0.000000</td>\n",
       "      <td>0.000000</td>\n",
       "    </tr>\n",
       "    <tr>\n",
       "      <th>0</th>\n",
       "      <td>1</td>\n",
       "      <td>1</td>\n",
       "      <td>0.497288</td>\n",
       "      <td>0.505425</td>\n",
       "      <td>0.496986</td>\n",
       "      <td>0.506329</td>\n",
       "      <td>0.000000</td>\n",
       "      <td>0.237960</td>\n",
       "    </tr>\n",
       "  </tbody>\n",
       "</table>\n",
       "</div>"
      ],
      "text/plain": [
       "    hidden-layer-size L1  hidden-layer-size L2  Train_score  Test_score  \\\n",
       "11                    11                    16     0.754069    0.767631   \n",
       "6                      6                    11     0.756178    0.772152   \n",
       "5                      6                     6     0.735684    0.751356   \n",
       "15                    16                    16     0.771549    0.763110   \n",
       "7                      6                    16     0.748041    0.758590   \n",
       "10                    11                    11     0.761603    0.768535   \n",
       "13                    16                     6     0.753165    0.754069   \n",
       "9                     11                     6     0.742616    0.741410   \n",
       "14                    16                    11     0.766124    0.771248   \n",
       "4                      6                     1     0.496986    0.506329   \n",
       "2                      1                    11     0.717601    0.746835   \n",
       "12                    16                     1     0.498794    0.507233   \n",
       "1                      1                     6     0.738698    0.743219   \n",
       "3                      1                    16     0.735684    0.750452   \n",
       "8                     11                     1     0.496986    0.506329   \n",
       "0                      1                     1     0.497288    0.505425   \n",
       "\n",
       "    Train_score_scaled  Test_score_scaled  recall_score  recall_scaled  \n",
       "11            0.780892           0.781193      0.781870       0.617564  \n",
       "6             0.760699           0.781193      0.781870       0.886686  \n",
       "5             0.765823           0.768535      0.810198       1.000000  \n",
       "15            0.795660           0.765823      0.764873       0.807365  \n",
       "7             0.767028           0.765823      0.730878       0.866856  \n",
       "10            0.773659           0.764919      0.745042       0.458924  \n",
       "13            0.783002           0.763110      0.790368       1.000000  \n",
       "9             0.779988           0.763110      0.815864       0.266289  \n",
       "14            0.786016           0.761302      0.779037       0.679887  \n",
       "4             0.742315           0.754973      0.000000       0.124646  \n",
       "2             0.741712           0.754069      0.770538       1.000000  \n",
       "12            0.745931           0.747740      0.000000       0.000000  \n",
       "1             0.737191           0.747740      0.770538       0.334278  \n",
       "3             0.735383           0.747740      0.781870       0.305949  \n",
       "8             0.739904           0.738698      0.000000       0.000000  \n",
       "0             0.496986           0.506329      0.000000       0.237960  "
      ]
     },
     "execution_count": 69,
     "metadata": {},
     "output_type": "execute_result"
    }
   ],
   "source": [
    "df.sort_values(by=[\"Test_score_scaled\",\"Train_score_scaled\"], ascending=False)"
   ]
  },
  {
   "cell_type": "code",
   "execution_count": 70,
   "id": "0d5047af",
   "metadata": {},
   "outputs": [],
   "source": [
    "#https://towardsdatascience.com/performance-metrics-confusion-matrix-precision-recall-and-f1-score-a8fe076a2262\n",
    "\n",
    "#The Confusion Matrix & Precision-Recall Tradeoff\n",
    "#https://www.qualtrics.com/support/stats-iq/analyses/regression-guides/confusion-matrix-precision-recall-tradeoff/"
   ]
  },
  {
   "cell_type": "code",
   "execution_count": 71,
   "id": "891ff6db",
   "metadata": {},
   "outputs": [],
   "source": [
    "# SMOTE \n",
    "#https://www.geeksforgeeks.org/ml-handling-imbalanced-data-with-smote-and-near-miss-algorithm-in-python/"
   ]
  },
  {
   "cell_type": "code",
   "execution_count": 89,
   "id": "d7b06ce6",
   "metadata": {},
   "outputs": [],
   "source": [
    "# Split your dataset into training and testing sets\n",
    "#X_train, X_test, y_train, y_test = train_test_split(x, y, test_size=0.2, random_state=42)\n",
    "\n",
    "# Apply SMOTE to the training data\n",
    "smote = SMOTE(random_state=42)\n",
    "X_train_resampled, y_train_resampled = smote.fit_resample(X_train, y_train)"
   ]
  },
  {
   "cell_type": "code",
   "execution_count": 94,
   "id": "17c3c3e5-f762-4219-849b-cc942b72a000",
   "metadata": {},
   "outputs": [
    {
     "name": "stdout",
     "output_type": "stream",
     "text": [
      "Accuracy on training set: 0.818\n",
      "Accuracy on test set: 0.724\n"
     ]
    }
   ],
   "source": [
    "\n",
    "# Apply SMOTE to the training data\n",
    "smote = SMOTE(random_state=42)\n",
    "X_train_resampled, y_train_resampled = smote.fit_resample(X_train, y_train)\n",
    "\n",
    "# Create an MLP classifier\n",
    "mlp = MLPClassifier(max_iter=1000)\n",
    "\n",
    "# Train the MLP classifier on the resampled training data\n",
    "mlp.fit(X_train_resampled, y_train_resampled)\n",
    "\n",
    "# Evaluate the model's accuracy on the training set\n",
    "train_accuracy = mlp.score(X_train_resampled, y_train_resampled)\n",
    "\n",
    "# Evaluate the model's accuracy on the test set\n",
    "test_accuracy = mlp.score(X_test, y_test)\n",
    "\n",
    "# Print the training and test accuracies\n",
    "print(\"Accuracy on training set: {:.3f}\".format(train_accuracy))\n",
    "print(\"Accuracy on test set: {:.3f}\".format(test_accuracy))\n"
   ]
  },
  {
   "cell_type": "code",
   "execution_count": 90,
   "id": "1d5af3e3",
   "metadata": {},
   "outputs": [
    {
     "name": "stdout",
     "output_type": "stream",
     "text": [
      "Before SMOTE:\n",
      "Graduate    1649\n",
      "Dropout     1068\n",
      "Enrolled     601\n",
      "Name: Target, dtype: int64\n",
      "\n",
      "After SMOTE:\n",
      "Dropout     1649\n",
      "Graduate    1649\n",
      "Enrolled    1649\n",
      "Name: Target, dtype: int64\n"
     ]
    }
   ],
   "source": [
    "# Print the value counts of the target variable before and after applying SMOTE\n",
    "print(\"Before SMOTE:\")\n",
    "print(pd.Series(y_train).value_counts())\n",
    "\n",
    "print(\"\\nAfter SMOTE:\")\n",
    "print(pd.Series(y_train_resampled).value_counts())"
   ]
  },
  {
   "cell_type": "markdown",
   "id": "c400308e",
   "metadata": {},
   "source": [
    "## Optimised MPL Parameters "
   ]
  },
  {
   "cell_type": "code",
   "execution_count": 74,
   "id": "714f516e",
   "metadata": {},
   "outputs": [
    {
     "data": {
      "image/png": "[encoded data removed]",
      "text/plain": [
       "<Figure size 432x288 with 2 Axes>"
      ]
     },
     "metadata": {
      "needs_background": "light"
     },
     "output_type": "display_data"
    },
    {
     "name": "stdout",
     "output_type": "stream",
     "text": [
      "              precision    recall  f1-score   support\n",
      "\n",
      "    Graduate       0.87      0.80      0.83       560\n",
      "     Dropout       0.86      0.68      0.76       353\n",
      "    Enrolled       0.41      0.65      0.50       193\n",
      "\n",
      "    accuracy                           0.74      1106\n",
      "   macro avg       0.71      0.71      0.70      1106\n",
      "weighted avg       0.78      0.74      0.75      1106\n",
      "\n"
     ]
    }
   ],
   "source": [
    "# Make predictions on the test data\n",
    "mlp = MLPClassifier(hidden_layer_sizes = 56, max_iter=1000) # we selcted hidden_layer_sizes = 56\n",
    "mlp.fit(X_train_resampled, y_train_resampled) # train optimised model \n",
    "y_pred = mlp.predict(X_test) # its the same test data, we didnt change it \n",
    "plot_confusion_matrix( y_test, y_pred, 'confusion-mlpSMOTE.png')\n",
    "print(classification_report(y_test,y_pred,labels=class_labels))"
   ]
  }
 ],
 "metadata": {
  "kernelspec": {
   "display_name": "Python 3 (ipykernel)",
   "language": "python",
   "name": "python3"
  },
  "language_info": {
   "codemirror_mode": {
    "name": "ipython",
    "version": 3
   },
   "file_extension": ".py",
   "mimetype": "text/x-python",
   "name": "python",
   "nbconvert_exporter": "python",
   "pygments_lexer": "ipython3",
   "version": "3.9.12"
  }
 },
 "nbformat": 4,
 "nbformat_minor": 5
}
